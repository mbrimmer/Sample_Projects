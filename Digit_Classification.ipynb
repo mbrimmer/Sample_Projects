{
  "nbformat": 4,
  "nbformat_minor": 0,
  "metadata": {
    "colab": {
      "name": "Digit_Classification.ipynb",
      "version": "0.3.2",
      "provenance": [],
      "collapsed_sections": [],
      "include_colab_link": true
    },
    "kernelspec": {
      "name": "python3",
      "display_name": "Python 3"
    },
    "accelerator": "GPU"
  },
  "cells": [
    {
      "cell_type": "markdown",
      "metadata": {
        "id": "view-in-github",
        "colab_type": "text"
      },
      "source": [
        "<a href=\"https://colab.research.google.com/github/mbrimmer/Sample_Projects/blob/master/Digit_Classification.ipynb\" target=\"_parent\"><img src=\"https://colab.research.google.com/assets/colab-badge.svg\" alt=\"Open In Colab\"/></a>"
      ]
    },
    {
      "cell_type": "markdown",
      "metadata": {
        "id": "CjUJGz_wLkTk",
        "colab_type": "text"
      },
      "source": [
        "# Digit Classification with KNN and Naive Bayes"
      ]
    },
    {
      "cell_type": "markdown",
      "metadata": {
        "id": "o9noHi1SLkTm",
        "colab_type": "text"
      },
      "source": [
        "Yann Lecun's MNIST benchmarks: http://yann.lecun.com/exdb/mnist/\n",
        "\n",
        "Stanford Streetview research and data: http://ufldl.stanford.edu/housenumbers/"
      ]
    },
    {
      "cell_type": "code",
      "metadata": {
        "id": "CG1rsda4LkTn",
        "colab_type": "code",
        "colab": {}
      },
      "source": [
        "# This tells matplotlib not to try opening a new window for each plot.\n",
        "%matplotlib inline\n",
        "\n",
        "# Import a bunch of libraries.\n",
        "import time\n",
        "import numpy as np\n",
        "import matplotlib.pyplot as plt\n",
        "# import pandas as pd\n",
        "# import seaborn as sns\n",
        "from matplotlib.ticker import MultipleLocator\n",
        "from sklearn.pipeline import Pipeline\n",
        "from sklearn.datasets import fetch_openml\n",
        "from sklearn.neighbors import KNeighborsClassifier\n",
        "from sklearn.metrics import confusion_matrix\n",
        "from sklearn.linear_model import LinearRegression\n",
        "from sklearn.naive_bayes import BernoulliNB\n",
        "from sklearn.naive_bayes import MultinomialNB\n",
        "from sklearn.naive_bayes import GaussianNB\n",
        "from sklearn.model_selection import GridSearchCV\n",
        "from sklearn.metrics import classification_report\n",
        "# from sklearn.metrics import accuracy_score\n",
        "# from sklearn.utils.multiclass import unique_labels\n",
        "from sklearn import preprocessing\n",
        "\n",
        "\n",
        "# Set the randomizer seed so results are the same each time.\n",
        "np.random.seed(0)"
      ],
      "execution_count": 0,
      "outputs": []
    },
    {
      "cell_type": "markdown",
      "metadata": {
        "id": "X9M9bvyjLkTq",
        "colab_type": "text"
      },
      "source": [
        "Load the data. Notice that we are splitting the data into training, development, and test. We also have a small subset of the training data called mini_train_data and mini_train_labels that you should use in all the experiments below, unless otherwise noted."
      ]
    },
    {
      "cell_type": "code",
      "metadata": {
        "id": "Zf1UoZcOLkTr",
        "colab_type": "code",
        "outputId": "a328253d-6d54-4196-d74a-ac5bfd9f43bf",
        "colab": {
          "base_uri": "https://localhost:8080/",
          "height": 51
        }
      },
      "source": [
        "# Load the digit data from https://www.openml.org/d/554 or from default local location '~/scikit_learn_data/...'\n",
        "X, Y = fetch_openml(name='mnist_784', return_X_y=True, cache=False)\n",
        "\n",
        "\n",
        "# Rescale grayscale values to [0,1].\n",
        "X = X / 255.0\n",
        "\n",
        "# Shuffle the input: create a random permutation of the integers between 0 and the number of data points and apply this\n",
        "# permutation to X and Y.\n",
        "# NOTE: Each time you run this cell, you'll re-shuffle the data, resulting in a different ordering.\n",
        "shuffle = np.random.permutation(np.arange(X.shape[0]))\n",
        "X, Y = X[shuffle], Y[shuffle]\n",
        "\n",
        "print ('data shape: ', X.shape)\n",
        "print ('label shape:', Y.shape)\n",
        "\n",
        "# Set some variables to hold test, dev, and training data.\n",
        "test_data, test_labels = X[61000:], Y[61000:]\n",
        "dev_data, dev_labels = X[60000:61000], Y[60000:61000]\n",
        "train_data, train_labels = X[:60000], Y[:60000]\n",
        "mini_train_data, mini_train_labels = X[:1000], Y[:1000]"
      ],
      "execution_count": 2,
      "outputs": [
        {
          "output_type": "stream",
          "text": [
            "data shape:  (70000, 784)\n",
            "label shape: (70000,)\n"
          ],
          "name": "stdout"
        }
      ]
    },
    {
      "cell_type": "markdown",
      "metadata": {
        "id": "LBMg6pp2LkTw",
        "colab_type": "text"
      },
      "source": [
        "(1) Create a 10x10 grid to visualize 10 examples of each digit. Python hints:\n",
        "\n",
        "- plt.rc() for setting the colormap, for example to black and white\n",
        "- plt.subplot() for creating subplots\n",
        "- plt.imshow() for rendering a matrix\n",
        "- np.array.reshape() for reshaping a 1D feature vector into a 2D matrix (for rendering)"
      ]
    },
    {
      "cell_type": "code",
      "metadata": {
        "id": "gCf17M7_GQ6X",
        "colab_type": "code",
        "colab": {}
      },
      "source": [
        "def print_image(f):\n",
        "  ''' Helper function to print image passed in '''\n",
        "  plt.xticks([])\n",
        "  plt.yticks([])\n",
        "  plt.imshow(f.reshape(28,28), cmap='gray')\n",
        "  plt.show();"
      ],
      "execution_count": 0,
      "outputs": []
    },
    {
      "cell_type": "code",
      "metadata": {
        "id": "NAcNPV-PLkTx",
        "colab_type": "code",
        "outputId": "b7cb24a1-c457-4232-84fe-59d6a7bc78c6",
        "colab": {
          "base_uri": "https://localhost:8080/",
          "height": 255
        }
      },
      "source": [
        "def P1(num_examples=10):\n",
        "  \n",
        "  ### STUDENT START ###\n",
        "  # Set up Dictionary of indices for each label\n",
        "  d = {}\n",
        "  digits = ['0','1','2','3','4','5','6','7','8','9']\n",
        "  for digit in digits:\n",
        "    d[digit] = np.where(mini_train_labels == digit)\n",
        "\n",
        "\n",
        "  index=1\n",
        "  for example in range(1,num_examples+1):\n",
        "    for j in range(0,10):\n",
        "      plt.subplot(num_examples,10, index)\n",
        "      # Labels aren't needed -- self explanatory what each column is\n",
        "      #     plt.title('Label={}'.format(mini_train_labels[d['{}'.format(j)][0][row]]))\n",
        "      plt.xticks([])\n",
        "      plt.yticks([])\n",
        "      plt.imshow(mini_train_data[d['{}'.format(j)][0][example]].reshape(28,28), cmap='gray')\n",
        "      index+=1\n",
        "\n",
        "  ### STUDENT END ###\n",
        "\n",
        "P1(10)"
      ],
      "execution_count": 4,
      "outputs": [
        {
          "output_type": "display_data",
          "data": {
            "image/png": "[encoded data removed]",
            "text/plain": [
              "<Figure size 432x288 with 100 Axes>"
            ]
          },
          "metadata": {
            "tags": []
          }
        }
      ]
    },
    {
      "cell_type": "markdown",
      "metadata": {
        "id": "AhcEgB5BLkTz",
        "colab_type": "text"
      },
      "source": [
        "(2) Evaluate a K-Nearest-Neighbors model with k = [1,3,5,7,9] using the mini training set. Report accuracy on the dev set. For k=1, show precision, recall, and F1 for each label. Which is the most difficult digit?\n",
        "\n",
        "- KNeighborsClassifier() for fitting and predicting\n",
        "- classification_report() for producing precision, recall, F1 results"
      ]
    },
    {
      "cell_type": "code",
      "metadata": {
        "id": "xe2bkTyGmKbC",
        "colab_type": "code",
        "colab": {}
      },
      "source": [
        "# Defining my own accuracy score because we can't import any new libraries\n",
        "# Would use 'accuracy_score' from sklearn allowed\n",
        "\n",
        "def my_accuracy_score(true_labels, pred_labels):\n",
        "  # assuming shapes are same for now\n",
        "  correct_count = (true_labels==pred_labels).sum()\n",
        "  return correct_count/true_labels.shape[0]\n",
        "#   print(\"correct: {}, total: {}, acc={}\".format(correct_count,\n",
        "#                                                 true_labels.shape[0],\n",
        "#                                                 correct_count/true_labels.shape[0]\n",
        "#                                                ))"
      ],
      "execution_count": 0,
      "outputs": []
    },
    {
      "cell_type": "code",
      "metadata": {
        "id": "EVEn_N1uLkT0",
        "colab_type": "code",
        "outputId": "49b2dacb-6d1a-4355-eae3-b85b2a645a4d",
        "colab": {
          "base_uri": "https://localhost:8080/",
          "height": 408
        }
      },
      "source": [
        "def P2(k_values):\n",
        "  ### STUDENT START ###\n",
        "  digits = ['0','1','2','3','4','5','6','7','8','9']\n",
        "  \n",
        "  for kval in k_values:\n",
        "    neigh = KNeighborsClassifier(n_neighbors=kval)\n",
        "    neigh.fit(mini_train_data, mini_train_labels) \n",
        "\n",
        "    y_pred = neigh.predict(dev_data)\n",
        "\n",
        "    \n",
        "\n",
        "    if kval == 1:\n",
        "      print(\"Classification Report for K=1\")\n",
        "      print(classification_report(dev_labels, y_pred,\n",
        "                               labels=np.asarray(digits)))\n",
        "    \n",
        "    print(\"Accuracy for k={}: {}\".format(kval, my_accuracy_score(dev_labels, y_pred)))\n",
        "  ### STUDENT END ###\n",
        "\n",
        "k_values = [1, 3, 5, 7, 9]\n",
        "P2(k_values)"
      ],
      "execution_count": 6,
      "outputs": [
        {
          "output_type": "stream",
          "text": [
            "Classification Report for K=1\n",
            "              precision    recall  f1-score   support\n",
            "\n",
            "           0       0.95      0.95      0.95       106\n",
            "           1       0.89      0.98      0.93       118\n",
            "           2       0.90      0.79      0.84       106\n",
            "           3       0.93      0.87      0.90        97\n",
            "           4       0.91      0.85      0.88        92\n",
            "           5       0.86      0.88      0.87        88\n",
            "           6       0.92      0.92      0.92       102\n",
            "           7       0.85      0.94      0.89       102\n",
            "           8       0.83      0.77      0.80        94\n",
            "           9       0.80      0.86      0.83        95\n",
            "\n",
            "    accuracy                           0.88      1000\n",
            "   macro avg       0.88      0.88      0.88      1000\n",
            "weighted avg       0.89      0.88      0.88      1000\n",
            "\n",
            "Accuracy for k=1: 0.884\n",
            "Accuracy for k=3: 0.876\n",
            "Accuracy for k=5: 0.882\n",
            "Accuracy for k=7: 0.877\n",
            "Accuracy for k=9: 0.875\n"
          ],
          "name": "stdout"
        }
      ]
    },
    {
      "cell_type": "markdown",
      "metadata": {
        "id": "VFAIEZi9LkT2",
        "colab_type": "text"
      },
      "source": [
        "ANSWER: The most difficult digit is 8. We see this across the board with the lowest f1, precision, and recall scores"
      ]
    },
    {
      "cell_type": "markdown",
      "metadata": {
        "id": "hFukiUp5LkT3",
        "colab_type": "text"
      },
      "source": [
        "(3) Using k=1, report dev set accuracy for the training set sizes below. Also, measure the amount of time needed for prediction with each training size.\n",
        "\n",
        "- time.time() gives a wall clock value you can use for timing operations"
      ]
    },
    {
      "cell_type": "code",
      "metadata": {
        "id": "KtaIb60LLkT4",
        "colab_type": "code",
        "outputId": "2b386564-4ddd-407b-cf4c-c697d7a024dc",
        "colab": {
          "base_uri": "https://localhost:8080/",
          "height": 187
        }
      },
      "source": [
        "#train_data, train_labels\n",
        "def P3(train_sizes, accuracies):\n",
        "  \n",
        "  ### STUDENT START ###\n",
        "  k=1\n",
        "\n",
        "\n",
        "  for i, size in enumerate(train_sizes):\n",
        "    neigh = KNeighborsClassifier(n_neighbors=k)\n",
        "    \n",
        "    # Given that we've shuffled the data above, just taking first \"size\"\n",
        "    neigh.fit(train_data[:size], train_labels[:size])\n",
        "    \n",
        "    start_time = time.time()\n",
        "    y_pred = neigh.predict(dev_data)\n",
        "    end_time = time.time()\n",
        "\n",
        "    acc = my_accuracy_score(dev_labels, y_pred)\n",
        "    accuracies.append(acc)\n",
        "    print(\"Accuracy for size={}: {}, Prediction Time (sec)={}\".\\\n",
        "          format(size, acc, round(end_time-start_time,1)))\n",
        "  ### STUDENT END ###\n",
        "\n",
        "train_sizes = [100, 200, 400, 800, 1600, 3200, 6400, 12800, 25000]\n",
        "accuracies = []\n",
        "P3(train_sizes, accuracies)\n",
        "print('Accuracies={}'.format(accuracies))\n",
        "\n",
        "#TODO - ADD TIMING IN HERE"
      ],
      "execution_count": 7,
      "outputs": [
        {
          "output_type": "stream",
          "text": [
            "Accuracy for size=100: 0.702, Prediction Time (sec)=0.2\n",
            "Accuracy for size=200: 0.791, Prediction Time (sec)=0.3\n",
            "Accuracy for size=400: 0.811, Prediction Time (sec)=0.5\n",
            "Accuracy for size=800: 0.866, Prediction Time (sec)=1.1\n",
            "Accuracy for size=1600: 0.905, Prediction Time (sec)=2.1\n",
            "Accuracy for size=3200: 0.927, Prediction Time (sec)=4.2\n",
            "Accuracy for size=6400: 0.939, Prediction Time (sec)=10.1\n",
            "Accuracy for size=12800: 0.952, Prediction Time (sec)=21.5\n",
            "Accuracy for size=25000: 0.962, Prediction Time (sec)=43.4\n",
            "Accuracies=[0.702, 0.791, 0.811, 0.866, 0.905, 0.927, 0.939, 0.952, 0.962]\n"
          ],
          "name": "stdout"
        }
      ]
    },
    {
      "cell_type": "markdown",
      "metadata": {
        "id": "oSOuTEQYLkT6",
        "colab_type": "text"
      },
      "source": [
        "(4) Fit a regression model that predicts accuracy from training size. What does it predict for n=60000? What's wrong with using regression here? Can you apply a transformation that makes the predictions more reasonable?\n",
        "\n",
        "- Remember that the sklearn fit() functions take an input matrix X and output vector Y. So each input example in X is a vector, even if it contains only a single value."
      ]
    },
    {
      "cell_type": "code",
      "metadata": {
        "id": "a9ASg8RBLkT7",
        "colab_type": "code",
        "outputId": "857f060c-014b-4416-c9e1-ae0b0cbe8e9a",
        "colab": {
          "base_uri": "https://localhost:8080/",
          "height": 382
        }
      },
      "source": [
        "def P4():\n",
        "  plt.figure(figsize=(14,4),facecolor='white')\n",
        "  ### STUDENT START ###\n",
        "\n",
        "  ax1 = plt.subplot(1,5,1)\n",
        "  plt.scatter(train_sizes,accuracies)\n",
        "  ax1.set_xlabel('Training Size')\n",
        "  ax1.set_ylabel('Accuracy')\n",
        "  reg = LinearRegression()\n",
        "  reg.fit(np.asarray(train_sizes).reshape(-1, 1), \n",
        "          np.asarray(accuracies).reshape(-1, 1))\n",
        "  X_plot = np.linspace(0,25000,num=50)\n",
        "  plt.plot(X_plot, X_plot*reg.coef_[0][0] + reg.intercept_[0],\n",
        "          color='red', linestyle='dashed')\n",
        "  print(\"Prediction for 60K (base model)={}\".\\\n",
        "         format(reg.predict(np.array(60000).reshape(-1, 1))[0][0].round(2)))\n",
        "  \n",
        "  # ---------Plot 2 - use log of training size----------\n",
        "  ax2=plt.subplot(1,5,2)\n",
        "  log_train_sizes=np.log(train_sizes)\n",
        "  plt.scatter(log_train_sizes,accuracies)\n",
        "  ax2.set_xlabel('Log of Training Size')\n",
        "  ax2.set_ylabel('Accuracy')\n",
        "  \n",
        "  reg2 = LinearRegression()\n",
        "  reg2.fit(np.asarray(log_train_sizes).reshape(-1, 1), \n",
        "          np.asarray(accuracies).reshape(-1, 1))\n",
        "  X_plot = np.linspace(4,11,num=50)\n",
        "  plt.plot(X_plot, X_plot*reg2.coef_[0][0] + reg2.intercept_[0],\n",
        "          color='red', linestyle='dashed')\n",
        "  print(\"Prediction for 60K (Model 2)={}\".\\\n",
        "         format(reg2.predict(np.array(np.log(60000)).\\\n",
        "                                reshape(-1, 1))[0][0].round(2)))\n",
        "  \n",
        "  # ----------Plot 3 - Use Odds Ratios----------\n",
        "  ax3=plt.subplot(1,5,3)\n",
        "  accuracies_odds = np.asarray(accuracies)/(1-np.asarray(accuracies))\n",
        "  accuracies_log_odds = np.log(accuracies_odds)\n",
        "  plt.scatter(train_sizes,accuracies_odds)\n",
        "  ax3.set_xlabel('Training Size')\n",
        "  ax3.set_ylabel('Accuracy Odds')\n",
        "  \n",
        "  reg3 = LinearRegression()\n",
        "  reg3.fit(np.asarray(train_sizes).reshape(-1, 1), \n",
        "          accuracies_odds.reshape(-1, 1))\n",
        "  X_plot = np.linspace(0,25000,num=50)\n",
        "  plt.plot(X_plot, X_plot*reg3.coef_[0][0] + reg3.intercept_[0],\n",
        "          color='red', linestyle='dashed')\n",
        "\n",
        "  odds_pred = reg3.predict(np.array(60000).reshape(-1,1))\n",
        "  acc_pred = (odds_pred/(1+odds_pred))[0][0].round(2)\n",
        "  print(\"Prediction for 60K (Model 3)={}\".format(acc_pred))\n",
        "                                      \n",
        "  \n",
        "\n",
        "  # ----------Plot 4 - Use Odds Ratios, log of training size axis----------\n",
        "  ax4=plt.subplot(1,5,4)\n",
        "  plt.scatter(log_train_sizes,accuracies_odds)\n",
        "  ax4.set_xlabel('Log of Training Size')\n",
        "  ax4.set_ylabel('Accuracy Odds')\n",
        "  \n",
        "  reg4 = LinearRegression()\n",
        "  reg4.fit(np.asarray(log_train_sizes).reshape(-1, 1), \n",
        "          accuracies_odds.reshape(-1, 1))\n",
        "  X_plot = np.linspace(4,11,num=50)\n",
        "  plt.plot(X_plot, X_plot*reg4.coef_[0][0] + reg4.intercept_[0],\n",
        "          color='red', linestyle='dashed')\n",
        "  \n",
        "  odds_pred = reg4.predict(np.array(np.log(60000)).reshape(-1,1))\n",
        "  acc_pred = (odds_pred/(1+odds_pred))[0][0].round(2)\n",
        "  print(\"Prediction for 60K (Model 4)={}\".format(acc_pred))\n",
        "  \n",
        "  # ----------Plot 5 - Use log Odds Ratios, log of training size ----------\n",
        "  ax5=plt.subplot(1,5,5)\n",
        "  plt.scatter(log_train_sizes,np.log(accuracies_odds))\n",
        "  ax5.set_xlabel('Log of Training Size')\n",
        "  ax5.set_ylabel('Log of Accuracy Odds')\n",
        "  \n",
        "  reg5 = LinearRegression()\n",
        "  reg5.fit(np.asarray(log_train_sizes).reshape(-1, 1), \n",
        "          np.log(accuracies_odds).reshape(-1, 1))\n",
        "  X_plot = np.linspace(4,11,num=50)\n",
        "  plt.plot(X_plot, X_plot*reg5.coef_[0][0] + reg5.intercept_[0],\n",
        "          color='red', linestyle='dashed')\n",
        "  plt.tight_layout()\n",
        "  \n",
        "  odds_pred = np.exp(reg5.predict(np.array(np.log(60000)).reshape(-1,1)))\n",
        "  acc_pred = (odds_pred/(1+odds_pred))[0][0].round(2)\n",
        "  print(\"Prediction for 60K (Model 5)={}\".format(acc_pred))\n",
        "  ### STUDENT END ###\n",
        "\n",
        "P4()"
      ],
      "execution_count": 8,
      "outputs": [
        {
          "output_type": "stream",
          "text": [
            "Prediction for 60K (base model)=1.24\n",
            "Prediction for 60K (Model 2)=1.03\n",
            "Prediction for 60K (Model 3)=0.98\n",
            "Prediction for 60K (Model 4)=0.96\n",
            "Prediction for 60K (Model 5)=0.98\n"
          ],
          "name": "stdout"
        },
        {
          "output_type": "display_data",
          "data": {
            "image/png": "[encoded data removed]",
            "text/plain": [
              "<Figure size 1008x288 with 5 Axes>"
            ]
          },
          "metadata": {
            "tags": []
          }
        }
      ]
    },
    {
      "cell_type": "markdown",
      "metadata": {
        "id": "6n2wYXxkLkT9",
        "colab_type": "text"
      },
      "source": [
        "ANSWER: A standard linear regression (left figure above) predicts an accuracy of 1.24 which is non-sensical because in this instance, the output range should be between 0 and 1. The best esitmate of the above is Model 5 (far right), which predicts an accuracy of 0.98."
      ]
    },
    {
      "cell_type": "markdown",
      "metadata": {
        "id": "yGk9dilqLkT_",
        "colab_type": "text"
      },
      "source": [
        "Fit a 1-NN and output a confusion matrix for the dev data. Use the confusion matrix to identify the most confused pair of digits, and display a few example mistakes.\n",
        "\n",
        "- confusion_matrix() produces a confusion matrix"
      ]
    },
    {
      "cell_type": "code",
      "metadata": {
        "id": "lZBenYQDLkUA",
        "colab_type": "code",
        "outputId": "8115c677-407b-4915-862c-f529e56f0989",
        "colab": {
          "base_uri": "https://localhost:8080/",
          "height": 699
        }
      },
      "source": [
        "def P5():\n",
        "  \n",
        "  ### STUDENT START ###\n",
        "  k = 1\n",
        "  nExamples = 4\n",
        "  size=1000 # remove later\n",
        "  digits = ['0','1','2','3','4','5','6','7','8','9']\n",
        "  \n",
        "  neigh = KNeighborsClassifier(n_neighbors=k)\n",
        "    \n",
        "  # Given that we've shuffled the data above, just taking first \"size\"\n",
        "  neigh.fit(train_data[:size], train_labels[:size])\n",
        "  y_pred = neigh.predict(dev_data)\n",
        "  \n",
        "  cm = confusion_matrix(dev_labels, y_pred, labels=np.asarray(digits))\n",
        "  print(\"Confusion Matrix: Rows = True Label, Columns = Predicted Label\")\n",
        "  print(cm)\n",
        "  print()\n",
        "  \n",
        "  # Find most confused pair of digits -- method 1 by raw count\n",
        "  most_missed_amt=0\n",
        "  most_missed_pred_index = 0\n",
        "  most_missed_true_index = 0 \n",
        "  for true_index in range(0,10,1):\n",
        "    for pred_index in range(0,10,1):\n",
        "      if true_index != pred_index and \\\n",
        "          cm[true_index][pred_index] > most_missed_amt:\n",
        "        most_missed_amt = cm[true_index][pred_index]\n",
        "        most_missed_pred_index = true_index\n",
        "        most_missed_true_index = pred_index\n",
        "  \n",
        "  print('Evaluating misses by raw number of misses:')\n",
        "  print(\"Most Missed True: {}, Most Frequent Miss: {}\".\\\n",
        "          format(most_missed_true_index,\n",
        "                 most_missed_pred_index\n",
        "                ))\n",
        "  print(\"Missed Number of Times: {}\".format(most_missed_amt))\n",
        "  \n",
        "# Below commented out because can't import pandas -- was going to create\n",
        "# heatmap using seaborn\n",
        "\n",
        "#   pdf = pd.DataFrame(cm, columns=digits, index=digits)\n",
        "  \n",
        "#   #note, for dataframe, colums are predicted label, rows are actual label\n",
        "#   pdf_norm_np = pdf.div(pdf.sum(axis=1), axis=0).round(2).values\n",
        "#   pdf_norm = pdf.div(pdf.sum(axis=1), axis=0).reset_index().\\\n",
        "#     rename(columns={'index':'True_Label'})\n",
        "\n",
        "#   pdf_norm_tidy = pd.melt(pdf_norm, id_vars='True_Label',\n",
        "#                        var_name=\"Predicted_Label\",\n",
        "#                        value_name=\"Percent\")\n",
        "  \n",
        "  \n",
        "#   print('Note the above holds when looking relative to the number of true cases')\n",
        "#   plt.figure(figsize=(15,6))\n",
        "#   ax1 = plt.subplot(1,3,1)\n",
        "#   ax1 = sns.heatmap(pdf_norm_np, annot=True, cmap='Blues', ax=ax1)\n",
        "#   ax1.set_xlabel('Predicted Label')\n",
        "#   ax1.set_ylabel('True Label')\n",
        "  \n",
        "  print(\"\\n\\nA few misclassification examples: \")\n",
        "  \n",
        "  misclass_examples = np.where( (dev_labels==str(most_missed_pred_index)) \\\n",
        "        & (y_pred == str(most_missed_true_index )))[0]\n",
        "  \n",
        "  \n",
        "#   print(misclass_examples[0])\n",
        "  for m in range(1,nExamples+1):\n",
        "    plt.subplot(1,nExamples,m)\n",
        "    print_image(dev_data[misclass_examples[m]])\n",
        "    \n",
        "  ### STUDENT END ###\n",
        "\n",
        "\n",
        "P5()"
      ],
      "execution_count": 9,
      "outputs": [
        {
          "output_type": "stream",
          "text": [
            "Confusion Matrix: Rows = True Label, Columns = Predicted Label\n",
            "[[101   0   1   0   0   0   1   1   2   0]\n",
            " [  0 116   1   0   0   0   0   0   1   0]\n",
            " [  1   4  84   2   2   0   2   4   6   1]\n",
            " [  0   2   0  84   0   6   0   2   3   0]\n",
            " [  0   0   1   0  78   0   0   2   0  11]\n",
            " [  2   0   0   1   1  77   5   0   2   0]\n",
            " [  1   2   1   0   1   2  94   0   1   0]\n",
            " [  0   1   1   0   0   0   0  96   0   4]\n",
            " [  1   5   4   3   1   3   0   1  72   4]\n",
            " [  0   1   0   0   3   2   0   7   0  82]]\n",
            "\n",
            "Evaluating misses by raw number of misses:\n",
            "Most Missed True: 9, Most Frequent Miss: 4\n",
            "Missed Number of Times: 11\n",
            "\n",
            "\n",
            "A few misclassification examples: \n"
          ],
          "name": "stdout"
        },
        {
          "output_type": "display_data",
          "data": {
            "image/png": "[encoded data removed]",
            "text/plain": [
              "<Figure size 432x288 with 1 Axes>"
            ]
          },
          "metadata": {
            "tags": []
          }
        },
        {
          "output_type": "display_data",
          "data": {
            "image/png": "[encoded data removed]",
            "text/plain": [
              "<Figure size 432x288 with 1 Axes>"
            ]
          },
          "metadata": {
            "tags": []
          }
        },
        {
          "output_type": "display_data",
          "data": {
            "image/png": "[encoded data removed]",
            "text/plain": [
              "<Figure size 432x288 with 1 Axes>"
            ]
          },
          "metadata": {
            "tags": []
          }
        },
        {
          "output_type": "display_data",
          "data": {
            "image/png": "[encoded data removed]",
            "text/plain": [
              "<Figure size 432x288 with 1 Axes>"
            ]
          },
          "metadata": {
            "tags": []
          }
        }
      ]
    },
    {
      "cell_type": "markdown",
      "metadata": {
        "id": "4nixfswpLkUC",
        "colab_type": "text"
      },
      "source": [
        "(6) A common image processing technique is to smooth an image by blurring. The idea is that the value of a particular pixel is estimated as the weighted combination of the original value and the values around it. Typically, the blurring is Gaussian -- that is, the weight of a pixel's influence is determined by a Gaussian function over the distance to the relevant pixel.\n",
        "\n",
        "Implement a simplified Gaussian blur by just using the 8 neighboring pixels: the smoothed value of a pixel is a weighted combination of the original value and the 8 neighboring values. Try applying your blur filter in 3 ways:\n",
        "- preprocess the training data but not the dev data\n",
        "- preprocess the dev data but not the training data\n",
        "- preprocess both training and dev data\n",
        "\n",
        "Note that there are Guassian blur filters available, for example in scipy.ndimage.filters. You're welcome to experiment with those, but you are likely to get the best results with the simplified version I described above."
      ]
    },
    {
      "cell_type": "code",
      "metadata": {
        "id": "6CW_OAok7bDL",
        "colab_type": "code",
        "outputId": "cacbfa9d-276b-411a-9fd5-5a1708652ad5",
        "colab": {
          "base_uri": "https://localhost:8080/",
          "height": 493
        }
      },
      "source": [
        "def Blur_Image(img,cols=28):\n",
        "  '''Input: 784 pixel values between 0 and 1 to be blurred\n",
        "  for simplicity, since edges are typically black (0), will leave these as \n",
        "  their original values. Other values will be average of itself and neighbors\n",
        "  '''\n",
        "  img = img.reshape(cols,cols)\n",
        "  new_img=img.copy()\n",
        "  \n",
        "  for i in range(1,cols-1):\n",
        "    for j in range(1,cols-1):\n",
        "      # Add all 9 cells (including itself) to average\n",
        "      new_img[i][j] = (img[i-1][j-1] + img[i-1][j] + img[i-1][j+1] + \\\n",
        "                        img[i][j-1] + img[i][j] + img[i][j+1] + \\\n",
        "                        img[i+1][j-1] + img[i+1][j] + img[i+1][j+1]) / 9\n",
        "  \n",
        "  return new_img.reshape(cols*cols)\n",
        "\n",
        "#Testing\n",
        "print_image(dev_data[0])\n",
        "print_image(Blur_Image(dev_data[0]))\n",
        "np.vectorize(Blur_Image);"
      ],
      "execution_count": 10,
      "outputs": [
        {
          "output_type": "display_data",
          "data": {
            "image/png": "[encoded data removed]",
            "text/plain": [
              "<Figure size 432x288 with 1 Axes>"
            ]
          },
          "metadata": {
            "tags": []
          }
        },
        {
          "output_type": "display_data",
          "data": {
            "image/png": "[encoded data removed]",
            "text/plain": [
              "<Figure size 432x288 with 1 Axes>"
            ]
          },
          "metadata": {
            "tags": []
          }
        }
      ]
    },
    {
      "cell_type": "code",
      "metadata": {
        "id": "dQQXcH8YLkUD",
        "colab_type": "code",
        "outputId": "ac1aefbc-dfc0-4f0b-cbad-178146fa4971",
        "colab": {
          "base_uri": "https://localhost:8080/",
          "height": 68
        }
      },
      "source": [
        "def P6():\n",
        "#   mini_train_data, mini_train_labels\n",
        "  ### STUDENT START ###\n",
        "  \n",
        "  # Preprocessing\n",
        "  mini_train_data_Blur = np.apply_along_axis(Blur_Image, 1, mini_train_data)\n",
        "  dev_data_Blur = np.apply_along_axis(Blur_Image, 1, dev_data)\n",
        "#   print(mini_train_data.shape, mini_train_data_Blur.shape)\n",
        "  \n",
        "  k = 1\n",
        "  neigh = KNeighborsClassifier(n_neighbors=k)\n",
        "    \n",
        "    #------Model 1 - Blur Training, not Dev ----------\n",
        "  neigh.fit(mini_train_data_Blur, mini_train_labels)\n",
        "  y_pred = neigh.predict(dev_data)\n",
        "  acc = my_accuracy_score(dev_labels, y_pred)\n",
        "  print(\"Model 1 Blur Only Training accuracy: {}\".format(acc))\n",
        "  \n",
        "  #------Model 2 - Blur Dev, not Training ----------\n",
        "  neigh.fit(mini_train_data, mini_train_labels)\n",
        "  y_pred = neigh.predict(dev_data_Blur)\n",
        "  acc = my_accuracy_score(dev_labels, y_pred)\n",
        "  print(\"Model 2 Blur Only Dev accuracy: {}\".format(acc))\n",
        "\n",
        "  #------Model 3 - Blur Training and Dev ----------\n",
        "  neigh.fit(mini_train_data_Blur, mini_train_labels)\n",
        "  y_pred = neigh.predict(dev_data_Blur)\n",
        "  acc = my_accuracy_score(dev_labels, y_pred)\n",
        "  print(\"Model 3 Blur Training and Dev accuracy: {}\".format(acc))\n",
        "\n",
        "### STUDENT END ###\n",
        "\n",
        "P6()"
      ],
      "execution_count": 11,
      "outputs": [
        {
          "output_type": "stream",
          "text": [
            "Model 1 Blur Only Training accuracy: 0.907\n",
            "Model 2 Blur Only Dev accuracy: 0.868\n",
            "Model 3 Blur Training and Dev accuracy: 0.905\n"
          ],
          "name": "stdout"
        }
      ]
    },
    {
      "cell_type": "markdown",
      "metadata": {
        "id": "5d8F0JgvLkUF",
        "colab_type": "text"
      },
      "source": [
        "ANSWER: From this sample, it appearst that the blurring of the training set produces slightly better results than the dev set and/or both although with a small margin that's it's unclear if this is due to noise or if this is statistically significant. More work would be needed to determine this."
      ]
    },
    {
      "cell_type": "markdown",
      "metadata": {
        "id": "W1z-ZaYoLkUF",
        "colab_type": "text"
      },
      "source": [
        "(7) Fit a Naive Bayes classifier and report accuracy on the dev data. Remember that Naive Bayes estimates P(feature|label). While sklearn can handle real-valued features, let's start by mapping the pixel values to either 0 or 1. You can do this as a preprocessing step, or with the binarize argument. With binary-valued features, you can use BernoulliNB. Next try mapping the pixel values to 0, 1, or 2, representing white, grey, or black. This mapping requires MultinomialNB. Does the multi-class version improve the results? Why or why not?"
      ]
    },
    {
      "cell_type": "code",
      "metadata": {
        "id": "KvZ6WpntDnn5",
        "colab_type": "code",
        "colab": {}
      },
      "source": [
        "grey_lower_threshold = 0.2\n",
        "grey_upper_threshold = 0.8\n",
        "bins = np.array([-1, grey_lower_threshold, grey_upper_threshold, 1])\n",
        "\n",
        "mini_train_data_mult_class = np.digitize(mini_train_data, bins, right=True)\n",
        "dev_data_mult_class = np.digitize(dev_data, bins, right=True)\n",
        "\n",
        "# Print a few of the binned images\n",
        "# print_image(mini_train_data_mult_class[0])\n",
        "# print_image(mini_train_data_mult_class[1])"
      ],
      "execution_count": 0,
      "outputs": []
    },
    {
      "cell_type": "code",
      "metadata": {
        "id": "gFr5Q97TLkUG",
        "colab_type": "code",
        "outputId": "66f086c4-982d-46e3-d29a-28bf118f4b17",
        "colab": {
          "base_uri": "https://localhost:8080/",
          "height": 51
        }
      },
      "source": [
        "def P7():\n",
        "  \n",
        "  ### STUDENT START ###\n",
        "  # Bernoulli Naive Bayes\n",
        "  bern_NB = BernoulliNB(binarize=0)\n",
        "  bern_NB.fit(mini_train_data, mini_train_labels)\n",
        "  y_pred = bern_NB.predict(dev_data)\n",
        "  acc = my_accuracy_score(dev_labels, y_pred)\n",
        "  print(\"Bernoulli NB accuracy: {}\".format(acc))\n",
        "\n",
        "  \n",
        "  # MultinomialNB Naive Bayes\n",
        "\n",
        "  mult_NB = MultinomialNB()\n",
        "  mult_NB.fit(mini_train_data_mult_class, mini_train_labels)\n",
        "  y_pred = mult_NB.predict(dev_data_mult_class)\n",
        "  acc = my_accuracy_score(dev_labels, y_pred)\n",
        "  print(\"MultinomialNB NB accuracy: {}\".format(acc))\n",
        "  \n",
        "### STUDENT END ###\n",
        "\n",
        "P7()"
      ],
      "execution_count": 13,
      "outputs": [
        {
          "output_type": "stream",
          "text": [
            "Bernoulli NB accuracy: 0.809\n",
            "MultinomialNB NB accuracy: 0.797\n"
          ],
          "name": "stdout"
        }
      ]
    },
    {
      "cell_type": "markdown",
      "metadata": {
        "id": "qH_-xsd4LkUI",
        "colab_type": "text"
      },
      "source": [
        "ANSWER: The multiclass does not improve accuracy. This is likely due to the nature of the problem -- there really is no valuable information value from the additional class of data. Either the mark is being made in a pixel or it's not. This is really a binary type of problem."
      ]
    },
    {
      "cell_type": "markdown",
      "metadata": {
        "id": "tnLL2tC_LkUI",
        "colab_type": "text"
      },
      "source": [
        "(8) Use GridSearchCV to perform a search over values of alpha (the Laplace smoothing parameter) in a Bernoulli NB model. What is the best value for alpha? What is the accuracy when alpha=0? Is this what you'd expect?\n",
        "\n",
        "- Note that GridSearchCV partitions the training data so the results will be a bit different than if you used the dev data for evaluation."
      ]
    },
    {
      "cell_type": "code",
      "metadata": {
        "id": "slANjobgLkUJ",
        "colab_type": "code",
        "outputId": "e224788a-cd71-466c-d43e-aa839e1eb22c",
        "colab": {
          "base_uri": "https://localhost:8080/",
          "height": 326
        }
      },
      "source": [
        "def P8(alphas):\n",
        "  \n",
        "  ### STUDENT START ###\n",
        "  bern_NB=BernoulliNB(binarize=0)\n",
        "  grid = GridSearchCV(bern_NB, alphas, cv=5, scoring='accuracy', refit=True,\n",
        "                     verbose=0)\n",
        "  grid.fit(mini_train_data, mini_train_labels)\n",
        "  \n",
        "  print('Best Params: {}'.format(grid.best_params_))\n",
        "  y_pred = grid.predict(dev_data)\n",
        "  print(my_accuracy_score(dev_labels, y_pred))\n",
        "  \n",
        "  # Now what is accuracy when alpha=0?\n",
        "  y_pred_alpha0 = BernoulliNB(alpha=0, binarize=0).\\\n",
        "    fit(mini_train_data, mini_train_labels).predict(dev_data)\n",
        "  print(\"Accuracy when alpha=0: {}\".format(my_accuracy_score(dev_labels, y_pred)))\n",
        "  \n",
        "### STUDENT END ###\n",
        "  return grid\n",
        "\n",
        "alphas = {'alpha': [0.0, 0.0001, 0.001, 0.01, 0.1, 0.5, 1.0, 2.0, 10.0]}\n",
        "nb = P8(alphas)"
      ],
      "execution_count": 14,
      "outputs": [
        {
          "output_type": "stream",
          "text": [
            "/usr/local/lib/python3.6/dist-packages/sklearn/naive_bayes.py:485: UserWarning: alpha too small will result in numeric errors, setting alpha = 1.0e-10\n",
            "  'setting alpha = %.1e' % _ALPHA_MIN)\n",
            "/usr/local/lib/python3.6/dist-packages/sklearn/naive_bayes.py:485: UserWarning: alpha too small will result in numeric errors, setting alpha = 1.0e-10\n",
            "  'setting alpha = %.1e' % _ALPHA_MIN)\n",
            "/usr/local/lib/python3.6/dist-packages/sklearn/naive_bayes.py:485: UserWarning: alpha too small will result in numeric errors, setting alpha = 1.0e-10\n",
            "  'setting alpha = %.1e' % _ALPHA_MIN)\n",
            "/usr/local/lib/python3.6/dist-packages/sklearn/naive_bayes.py:485: UserWarning: alpha too small will result in numeric errors, setting alpha = 1.0e-10\n",
            "  'setting alpha = %.1e' % _ALPHA_MIN)\n",
            "/usr/local/lib/python3.6/dist-packages/sklearn/naive_bayes.py:485: UserWarning: alpha too small will result in numeric errors, setting alpha = 1.0e-10\n",
            "  'setting alpha = %.1e' % _ALPHA_MIN)\n"
          ],
          "name": "stderr"
        },
        {
          "output_type": "stream",
          "text": [
            "Best Params: {'alpha': 0.001}\n",
            "0.823\n",
            "Accuracy when alpha=0: 0.823\n"
          ],
          "name": "stdout"
        },
        {
          "output_type": "stream",
          "text": [
            "/usr/local/lib/python3.6/dist-packages/sklearn/model_selection/_search.py:814: DeprecationWarning: The default of the `iid` parameter will change from True to False in version 0.22 and will be removed in 0.24. This will change numeric results when test-set sizes are unequal.\n",
            "  DeprecationWarning)\n",
            "/usr/local/lib/python3.6/dist-packages/sklearn/naive_bayes.py:485: UserWarning: alpha too small will result in numeric errors, setting alpha = 1.0e-10\n",
            "  'setting alpha = %.1e' % _ALPHA_MIN)\n"
          ],
          "name": "stderr"
        }
      ]
    },
    {
      "cell_type": "code",
      "metadata": {
        "id": "u41gMX74iiCU",
        "colab_type": "code",
        "outputId": "7374153b-db36-4bcb-c4cc-5b489565bf78",
        "colab": {
          "base_uri": "https://localhost:8080/",
          "height": 88
        }
      },
      "source": [
        "# Now Calculate accuracy when alpha = 0\n",
        "bern_NB=BernoulliNB(binarize=0, alpha=0)\n",
        "bern_NB.fit(mini_train_data, mini_train_labels)\n",
        "  \n",
        "y_pred = bern_NB.predict(dev_data)\n",
        "print(\"Accuracy when alpha=0: {}\".format(my_accuracy_score(dev_labels, y_pred)))"
      ],
      "execution_count": 15,
      "outputs": [
        {
          "output_type": "stream",
          "text": [
            "Accuracy when alpha=0: 0.816\n"
          ],
          "name": "stdout"
        },
        {
          "output_type": "stream",
          "text": [
            "/usr/local/lib/python3.6/dist-packages/sklearn/naive_bayes.py:485: UserWarning: alpha too small will result in numeric errors, setting alpha = 1.0e-10\n",
            "  'setting alpha = %.1e' % _ALPHA_MIN)\n"
          ],
          "name": "stderr"
        }
      ]
    },
    {
      "cell_type": "code",
      "metadata": {
        "id": "xp-jbVd-LkUL",
        "colab_type": "code",
        "outputId": "9421ade4-0b55-49ee-a8e5-5c3a545bbc4e",
        "colab": {
          "base_uri": "https://localhost:8080/",
          "height": 34
        }
      },
      "source": [
        "print (nb.best_params_)"
      ],
      "execution_count": 16,
      "outputs": [
        {
          "output_type": "stream",
          "text": [
            "{'alpha': 0.001}\n"
          ],
          "name": "stdout"
        }
      ]
    },
    {
      "cell_type": "markdown",
      "metadata": {
        "id": "cY4gNiuNLkUO",
        "colab_type": "text"
      },
      "source": [
        "ANSWER: The best value for alpha is 0.001. With less alpha (smoothing), the accuracy suffers as can be seen with alpha=0. This isn't terribly surprising,."
      ]
    },
    {
      "cell_type": "markdown",
      "metadata": {
        "id": "PNCf7eEKLkUP",
        "colab_type": "text"
      },
      "source": [
        "(9) Try training a model using GuassianNB, which is intended for real-valued features, and evaluate on the dev data. You'll notice that it doesn't work so well. Try to diagnose the problem. You should be able to find a simple fix that returns the accuracy to around the same rate as BernoulliNB. Explain your solution.\n",
        "\n",
        "Hint: examine the parameters estimated by the fit() method, theta\\_ and sigma\\_."
      ]
    },
    {
      "cell_type": "code",
      "metadata": {
        "id": "7mvGktkrLkUP",
        "colab_type": "code",
        "outputId": "6e17bdc1-d2ca-4249-f4ea-753eb222255b",
        "colab": {
          "base_uri": "https://localhost:8080/",
          "height": 271
        }
      },
      "source": [
        "def P9():\n",
        "  \n",
        "  ### STUDENT END ###\n",
        "  gnb=GaussianNB()\n",
        "  gnb.fit(mini_train_data, mini_train_labels)\n",
        "  \n",
        "  y_pred = gnb.predict(dev_data)\n",
        "  print(\"Accuracy on GaussianNB: \".format(my_accuracy_score(dev_labels, y_pred)))\n",
        "#   print(\"nClasses {}\".format(gnb.class_count_.shape))\n",
        "#   print(\"Theta {}\".format(gnb.theta_.shape))\n",
        "#   print(\"Sigma: {}\".format(gnb.sigma_.shape))\n",
        "\n",
        "  # Plotting Thetas and Sigmas to gain insight\n",
        "  for j in range(0,10):\n",
        "    plt.subplot(3,10, j+1)\n",
        "    plt.xticks([])\n",
        "    plt.xlabel('theta')\n",
        "    plt.yticks([])\n",
        "    plt.imshow(gnb.theta_[j].reshape(28,28), cmap='gray')\n",
        "    plt.subplot(3,10, j+1+10)\n",
        "    plt.xticks([])\n",
        "    plt.xlabel('sigma')\n",
        "    plt.yticks([])\n",
        "    plt.imshow(gnb.sigma_[j].reshape(28,28), cmap='gray')\n",
        "\n",
        "  # Insight from images -- there are a lot of 0 theta(mean) and 0 sigma (stdev)\n",
        "  # on the top and sides - maybe we remove these pixels?\n",
        "  \n",
        "  # remove all pixels that have a mean value below epsilon and rerun\n",
        "  mean_thetas = gnb.theta_.mean(axis=0)\n",
        "  plt.subplot(3,10, 21)\n",
        "  plt.xticks([])\n",
        "  plt.yticks([])\n",
        "  plt.imshow(mean_thetas.reshape(28,28), cmap='gray')\n",
        "  \n",
        "  epsilon = 0.15\n",
        "  \n",
        "#   print(\"Shape: {}\".format(mini_train_data.shape))\n",
        "  \n",
        "#   print(\"Mean Thetas Shape: {}\".format((mean_thetas>epsilon).shape))\n",
        "  print(\"# pixels with values > epsilon: {}\".format((mean_thetas>epsilon).sum()))\n",
        "  \n",
        "#   print('Mini Train Data Shape: {}'.format(mini_train_data.shape))\n",
        "  mini_train_data_trimmed = mini_train_data[:,np.where((mean_thetas>epsilon))][:,0,:]\n",
        "  dev_data_trimmed = dev_data[:,np.where((mean_thetas>epsilon))][:,0,:]\n",
        "\n",
        "  # Refit and calculate accuracies\n",
        "  gnb2=GaussianNB()\n",
        "  gnb2.fit(mini_train_data_trimmed, mini_train_labels)\n",
        "  \n",
        "  y_pred = gnb2.predict(dev_data_trimmed)\n",
        "  print(my_accuracy_score(dev_labels, y_pred))\n",
        "\n",
        "### STUDENT END ###\n",
        "\n",
        "gnb = P9()"
      ],
      "execution_count": 17,
      "outputs": [
        {
          "output_type": "stream",
          "text": [
            "Accuracy on GaussianNB: \n",
            "# pixels with values > epsilon: 268\n",
            "0.78\n"
          ],
          "name": "stdout"
        },
        {
          "output_type": "display_data",
          "data": {
            "image/png": "[encoded data removed]",
            "text/plain": [
              "<Figure size 432x288 with 21 Axes>"
            ]
          },
          "metadata": {
            "tags": []
          }
        }
      ]
    },
    {
      "cell_type": "markdown",
      "metadata": {
        "id": "-JBR4VJ6LkUR",
        "colab_type": "text"
      },
      "source": [
        "ANSWER: It appears that the reason for the poor performance is that there are so many pixels that have no variation (this would be the pixels on the edges of all the images -- using these really provides no value). The simple solution is to remove these pixels with no variation. When we do this, we get accuracies in line with the other methodologies."
      ]
    },
    {
      "cell_type": "markdown",
      "metadata": {
        "id": "VPRMFt9lLkUS",
        "colab_type": "text"
      },
      "source": [
        "(10) Because Naive Bayes is a generative model, we can use the trained model to generate digits. Train a BernoulliNB model and then generate a 10x20 grid with 20 examples of each digit. Because you're using a Bernoulli model, each pixel output will be either 0 or 1. How do the generated digits compare to the training digits?\n",
        "\n",
        "- You can use np.random.rand() to generate random numbers from a uniform distribution\n",
        "- The estimated probability of each pixel is stored in feature\\_log\\_prob\\_. You'll need to use np.exp() to convert a log probability back to a probability."
      ]
    },
    {
      "cell_type": "code",
      "metadata": {
        "id": "ToJgTdxsLkUS",
        "colab_type": "code",
        "outputId": "a4de77f4-c711-42e9-a245-5d0944c0f517",
        "colab": {
          "base_uri": "https://localhost:8080/",
          "height": 581
        }
      },
      "source": [
        "def P10(num_examples):\n",
        "  plt.figure(figsize=(10,10))\n",
        "  ### STUDENT START ###\n",
        "  # Using Alpha value from above\n",
        "  bern_NB=BernoulliNB(alpha=0.001)\n",
        "  bern_NB.fit(mini_train_data, mini_train_labels)\n",
        "  \n",
        "  y_pred = bern_NB.predict(dev_data)\n",
        "\n",
        "  index=1\n",
        "  for example in range(1,num_examples+1):\n",
        "    for j in range(0,10):\n",
        "      plt.subplot(num_examples,10, index)\n",
        "      # Labels aren't needed -- self explanatory what each column is\n",
        "      #     plt.title('Label={}'.format(mini_train_labels[d['{}'.format(j)][0][row]]))\n",
        "      plt.xticks([])\n",
        "      plt.yticks([])\n",
        "      # Generate Image Value\n",
        "      img = (np.exp(bern_NB.feature_log_prob_[j]) >= \n",
        "             np.random.rand(28*28)).astype(int)\n",
        "      plt.imshow(img.reshape(28,28), cmap='gray')\n",
        "      index+=1\n",
        "### STUDENT END ###\n",
        "\n",
        "P10(20)"
      ],
      "execution_count": 18,
      "outputs": [
        {
          "output_type": "display_data",
          "data": {
            "image/png": "[encoded data removed]",
            "text/plain": [
              "<Figure size 720x720 with 200 Axes>"
            ]
          },
          "metadata": {
            "tags": []
          }
        }
      ]
    },
    {
      "cell_type": "markdown",
      "metadata": {
        "id": "ipiQxRdCLkUV",
        "colab_type": "text"
      },
      "source": [
        "ANSWER: The digits are very pixelated compared to the ones in the examples, but they do clearly have the general shapes they should have. "
      ]
    },
    {
      "cell_type": "markdown",
      "metadata": {
        "id": "ZU2voLvILkUX",
        "colab_type": "text"
      },
      "source": [
        "(11) Remember that a strongly calibrated classifier is rougly 90% accurate when the posterior probability of the predicted class is 0.9. A weakly calibrated classifier is more accurate when the posterior is 90% than when it is 80%. A poorly calibrated classifier has no positive correlation between posterior and accuracy.\n",
        "\n",
        "Train a BernoulliNB model with a reasonable alpha value. For each posterior bucket (think of a bin in a histogram), you want to estimate the classifier's accuracy. So for each prediction, find the bucket the maximum posterior belongs to and update the \"correct\" and \"total\" counters.\n",
        "\n",
        "How would you characterize the calibration for the Naive Bayes model?"
      ]
    },
    {
      "cell_type": "code",
      "metadata": {
        "id": "0dsdaxrYLkUX",
        "colab_type": "code",
        "outputId": "72715844-3df0-4c28-8b83-0fb743203ee1",
        "colab": {
          "base_uri": "https://localhost:8080/",
          "height": 170
        }
      },
      "source": [
        "def P11(buckets, correct, total):\n",
        "  #TODO START HERE\n",
        "  ### STUDENT START ###\n",
        "  \n",
        "  #starting with copy to create cumulative in each bucket\n",
        "  cum_correct = correct.copy() \n",
        "  cum_total = total.copy() \n",
        "  \n",
        "  # Using Alpha value from above\n",
        "  bern_NB=BernoulliNB(alpha=0.001)\n",
        "  bern_NB.fit(mini_train_data, mini_train_labels)\n",
        "  \n",
        "  y_pred = bern_NB.predict(dev_data)\n",
        "  y_pred_proba = bern_NB.predict_proba(dev_data)\n",
        "#   print(\"bern_NB accuracy: {}\".format(my_accuracy_score(dev_labels, y_pred)))\n",
        "#   print('Predicted Proba',y_pred_proba[1][int(y_pred[1])])\n",
        "#   print_image(dev_data[1])\n",
        "#   print('Predicted Val: {}'.format(y_pred[1]))\n",
        "#   print('Actual Val: {}'.format(dev_labels[1]))\n",
        "  probabilities = y_pred_proba.max(axis=1)\n",
        "\n",
        "  \n",
        "  for j in range(0, y_pred.shape[0]):\n",
        "    # note I'm going to fill each appropriate bucket\n",
        "    for i, bucket in enumerate(buckets):\n",
        "      if probabilities[j] <= bucket:\n",
        "        if y_pred[j] == dev_labels[j]: # correct\n",
        "          cum_correct[i] += 1\n",
        "        cum_total[i] += 1 # increment total whether correct or not\n",
        "  \n",
        "  # now have cumulative totals and correct counts\n",
        "  correct[:] = cum_correct\n",
        "  total[:] = cum_total \n",
        "  ### STUDENT END ###\n",
        "\n",
        "buckets = [0.5, 0.9, 0.999, 0.99999, 0.9999999, 0.999999999, 0.99999999999, 0.9999999999999, 1.0]\n",
        "correct = [0 for i in buckets]\n",
        "total = [0 for i in buckets]\n",
        "\n",
        "P11(buckets, correct, total)\n",
        "\n",
        "for i in range(len(buckets)):\n",
        "   accuracy = 0.0\n",
        "   if (total[i] > 0): accuracy = correct[i] / total[i]\n",
        "   print ('p(pred) <= %.13f    total = %3d    accuracy = %.3f' %(buckets[i], total[i], accuracy))"
      ],
      "execution_count": 19,
      "outputs": [
        {
          "output_type": "stream",
          "text": [
            "p(pred) <= 0.5000000000000    total =   0    accuracy = 0.000\n",
            "p(pred) <= 0.9000000000000    total =  31    accuracy = 0.355\n",
            "p(pred) <= 0.9990000000000    total =  98    accuracy = 0.408\n",
            "p(pred) <= 0.9999900000000    total = 157    accuracy = 0.427\n",
            "p(pred) <= 0.9999999000000    total = 203    accuracy = 0.478\n",
            "p(pred) <= 0.9999999990000    total = 265    accuracy = 0.547\n",
            "p(pred) <= 0.9999999999900    total = 298    accuracy = 0.574\n",
            "p(pred) <= 0.9999999999999    total = 341    accuracy = 0.601\n",
            "p(pred) <= 1.0000000000000    total = 1000    accuracy = 0.823\n"
          ],
          "name": "stdout"
        }
      ]
    },
    {
      "cell_type": "markdown",
      "metadata": {
        "id": "x44WGcXfLkUa",
        "colab_type": "text"
      },
      "source": [
        "ANSWER: This appears to be a weakly calibrated classifier."
      ]
    },
    {
      "cell_type": "markdown",
      "metadata": {
        "id": "NPCGFg_yLkUa",
        "colab_type": "text"
      },
      "source": [
        "(12) EXTRA CREDIT\n",
        "\n",
        "Try designing extra features to see if you can improve the performance of Naive Bayes on the dev set. Here are a few ideas to get you started:\n",
        "- Try summing the pixel values in each row and each column.\n",
        "- Try counting the number of enclosed regions; 8 usually has 2 enclosed regions, 9 usually has 1, and 7 usually has 0.\n",
        "\n",
        "Make sure you comment your code well!"
      ]
    },
    {
      "cell_type": "code",
      "metadata": {
        "id": "71r1y61rJMnB",
        "colab_type": "code",
        "outputId": "58244c76-0e1d-4269-f960-9c6b2cfcbf9d",
        "colab": {
          "base_uri": "https://localhost:8080/",
          "height": 272
        }
      },
      "source": [
        "# Creaating function to count the number of enclosed areas in an image\n",
        "def count_enclosed(img, threshold=0.4, ncols=28, DEBUG=False):\n",
        "  '''methodology: two pass methodology described in wikipedia: \n",
        "  https://en.wikipedia.org/wiki/Connected-component_labeling\n",
        "  \n",
        "  '''\n",
        "  new_img=img.copy()\n",
        "  new_img = (new_img <= threshold).astype(np.int_).reshape(ncols,ncols)\n",
        "#   print_image(new_img.reshape(ncols*ncols))\n",
        "  labels = np.zeros(shape=(ncols,ncols))\n",
        "  \n",
        "  background_val = 0\n",
        "  next_label = 1\n",
        "\n",
        "  i=0\n",
        "\n",
        "  linked = [set() for x in range(np.count_nonzero(img))]\n",
        "#   print('nNonZeroElements={}'.format(np.count_nonzero(img)))\n",
        "  \n",
        "#   # First Pass:\n",
        "  for row in range(ncols):\n",
        "    for col in range(ncols):\n",
        "      i+=1\n",
        "#       print(\"Iteration: {}, linked={}\".format(i, linked))\n",
        "\n",
        "      if new_img[row,col] != background_val:\n",
        "        neighbors = set()\n",
        "      \n",
        "        if row > 0: #omit look above for first row\n",
        "          if new_img[row-1, col] != background_val:\n",
        "            neighbors.add(int(labels[row-1, col]))\n",
        "        \n",
        "        if row < ncols-1: #omit look beneath for last row\n",
        "          if new_img[row+1, col] != background_val:\n",
        "            neighbors.add(int(labels[row+1, col]))\n",
        "        \n",
        "        if col > 0: #omit look left for first col\n",
        "          if new_img[row, col-1] != background_val:\n",
        "            neighbors.add(int(labels[row, col-1]))\n",
        "            \n",
        "        if col < ncols-1: #omit look right for last col\n",
        "          if new_img[row, col+1] != background_val:\n",
        "            neighbors.add(int(labels[row, col+1]))\n",
        "        \n",
        "        #because starting labels with 0, going to remove this\n",
        "        neighbors.discard(background_val)\n",
        "            \n",
        "        if len(neighbors) == 0: # if neighbors is empty\n",
        "          linked[next_label].add(int(next_label))\n",
        "          labels[row, col] = next_label\n",
        "          next_label += 1\n",
        "        else:\n",
        "#           print('made else statement, r={},c={}, n={}'.format(row,col, neighbors))\n",
        "#           print('len={}'.format(len(neighbors)))\n",
        "#           print('neighbors={}'.format(neighbors))\n",
        "          # label becomes min of neighbors collected above\n",
        "          labels[row,col] = min(neighbors)\n",
        "          # now need to realign labels\n",
        "          for label in neighbors:\n",
        "            linked[int(label)].update(neighbors)\n",
        "\n",
        "  if DEBUG:\n",
        "    print('First Iteration image:')\n",
        "    print_image(labels.reshape(ncols*ncols))\n",
        "\n",
        "\n",
        "  # Clean up linked --only going 2 deep but could make recursive if time\n",
        "  for l, link in enumerate(linked.copy()):\n",
        "    if link:\n",
        "      for j in link.copy():\n",
        "        link.update(linked[j])\n",
        "  \n",
        "\n",
        "#   # Second pass\n",
        "  for row in range(ncols):\n",
        "    for col in range(ncols):\n",
        "      if new_img[row,col] != background_val:\n",
        "#         print('row={}, col={}, new_img={}'.format(row, col, new_img[row,col]))\n",
        "#         print('linked[0]={}'.format(linked[0]))\n",
        "\n",
        "#         print('XX', linked[new_img[row,col]])\n",
        "        labels[row,col] = min(linked[int(labels[row,col])])\n",
        "  \n",
        "  if DEBUG:\n",
        "    print('Final Iteration image:')\n",
        "    print_image(labels.reshape(ncols*ncols))\n",
        "    print(\"# Unique Values={}\".format(np.unique(labels.reshape(ncols*ncols))))\n",
        "  # subtract 2 to get the number of enclosed space\n",
        "  # 1 is for the actual 'on' pixels\n",
        "  return len(np.unique(labels.reshape(ncols*ncols)))-2\n",
        "\n",
        "  \n",
        "\n",
        "# #Testing\n",
        "\n",
        "img_index = 49\n",
        "print_image(mini_train_data[img_index])\n",
        "# count_enclosed(mini_train_data[0], threshold=0.4, ncols=28)\n",
        "count_enclosed(mini_train_data[img_index], threshold=0.4, ncols=28)"
      ],
      "execution_count": 20,
      "outputs": [
        {
          "output_type": "display_data",
          "data": {
            "image/png": "[encoded data removed]",
            "text/plain": [
              "<Figure size 432x288 with 1 Axes>"
            ]
          },
          "metadata": {
            "tags": []
          }
        },
        {
          "output_type": "execute_result",
          "data": {
            "text/plain": [
              "0"
            ]
          },
          "metadata": {
            "tags": []
          },
          "execution_count": 20
        }
      ]
    },
    {
      "cell_type": "code",
      "metadata": {
        "id": "GHfF_dioIvkh",
        "colab_type": "code",
        "colab": {
          "base_uri": "https://localhost:8080/",
          "height": 85
        },
        "outputId": "f1550285-c1e2-4c25-9af5-8577c463db27"
      },
      "source": [
        "# Preprocess Data For # Enclosed Spaces\n",
        "mini_train_data.shape\n",
        "mini_train_enclosed_areas = np.apply_along_axis(count_enclosed, 1, mini_train_data)\n",
        "dev_data_enclosed_areas = np.apply_along_axis(count_enclosed, 1, dev_data)\n",
        "\n",
        "# append the # enclosed areas to the end of each image\n",
        "mini_train_data_cpy = mini_train_data.copy()\n",
        "print(\"Mini Train Data Shape Original: {}\".format(mini_train_data.shape))\n",
        "\n",
        "# print(mini_train_data_cpy.shape)\n",
        "# print(mini_train_enclosed_areas[:, np.newaxis].shape)\n",
        "mini_train_data_cpy = np.append(mini_train_data_cpy, \n",
        "                                mini_train_enclosed_areas[:, np.newaxis], \n",
        "                                axis=1)\n",
        "print(\"Mini Train Data Copy Shape: {}\".format(mini_train_data_cpy.shape))\n",
        "\n",
        "# Now do the same for the dev data\n",
        "dev_data_cpy = dev_data.copy()\n",
        "dev_data_cpy = np.append(dev_data_cpy, \n",
        "                         dev_data_enclosed_areas[:, np.newaxis], \n",
        "                         axis=1)\n",
        "print(\"Dev Data Original Shape: {}\".format(dev_data.shape))\n",
        "print(\"Dev Data Copy Shape: {}\".format(dev_data_cpy.shape))\n",
        "\n",
        "\n",
        "# bin the data -- essentially binarizing things between 0 and 1 and then keeping\n",
        "# the nEnclosed areas separate\n",
        "\n",
        "bins = np.array([-1, .6, 1, 2, 3])\n",
        "mini_train_data_cpy_mult_class = np.digitize(mini_train_data_cpy, bins, right=True)\n",
        "dev_data_cpy_mult_class = np.digitize(dev_data_cpy, bins, right=True)"
      ],
      "execution_count": 21,
      "outputs": [
        {
          "output_type": "stream",
          "text": [
            "Mini Train Data Shape Original: (1000, 784)\n",
            "Mini Train Data Copy Shape: (1000, 785)\n",
            "Dev Data Original Shape: (1000, 784)\n",
            "Dev Data Copy Shape: (1000, 785)\n"
          ],
          "name": "stdout"
        }
      ]
    },
    {
      "cell_type": "code",
      "metadata": {
        "id": "xjEcU7SULkUb",
        "colab_type": "code",
        "outputId": "f28217bd-6301-4723-97bb-4ee7c70d175b",
        "colab": {
          "base_uri": "https://localhost:8080/",
          "height": 34
        }
      },
      "source": [
        "def P12():\n",
        "  # MultinomialNB Naive Bayes\n",
        "\n",
        "  ### STUDENT START ###\n",
        "  mult_NB = MultinomialNB()\n",
        "  mult_NB.fit(mini_train_data_cpy_mult_class, mini_train_labels)\n",
        "  y_pred = mult_NB.predict(dev_data_cpy_mult_class)\n",
        "  acc = my_accuracy_score(dev_labels, y_pred)\n",
        "  print(\"MultinomialNB NB accuracy: {}\".format(acc))\n",
        "\n",
        "\n",
        "  ### STUDENT END ###\n",
        "\n",
        "P12()"
      ],
      "execution_count": 22,
      "outputs": [
        {
          "output_type": "stream",
          "text": [
            "MultinomialNB NB accuracy: 0.814\n"
          ],
          "name": "stdout"
        }
      ]
    },
    {
      "cell_type": "markdown",
      "metadata": {
        "id": "wkjH3pHvYRe5",
        "colab_type": "text"
      },
      "source": [
        "Above: Accuracy not as good as I would have hoped, but it's somewhat better"
      ]
    }
  ]
}