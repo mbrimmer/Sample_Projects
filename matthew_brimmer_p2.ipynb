{
  "nbformat": 4,
  "nbformat_minor": 0,
  "metadata": {
    "colab": {
      "name": "matthew_brimmer_p2.ipynb",
      "version": "0.3.2",
      "provenance": [],
      "collapsed_sections": [],
      "include_colab_link": true
    },
    "kernelspec": {
      "name": "python2",
      "display_name": "Python 2"
    }
  },
  "cells": [
    {
      "cell_type": "markdown",
      "metadata": {
        "id": "view-in-github",
        "colab_type": "text"
      },
      "source": [
        "<a href=\"https://colab.research.google.com/github/mbrimmer/W207_Assignments/blob/master/matthew_brimmer_p2.ipynb\" target=\"_parent\"><img src=\"https://colab.research.google.com/assets/colab-badge.svg\" alt=\"Open In Colab\"/></a>"
      ]
    },
    {
      "cell_type": "markdown",
      "metadata": {
        "id": "z4WrYlX4Mi1j",
        "colab_type": "text"
      },
      "source": [
        "# Project 2: Topic Classification"
      ]
    },
    {
      "cell_type": "markdown",
      "metadata": {
        "id": "knx6wpetMi1k",
        "colab_type": "text"
      },
      "source": [
        "In this project, you'll work with text data from newsgroup postings on a variety of topics. You'll train classifiers to distinguish between the topics based on the text of the posts. Whereas with digit classification, the input is relatively dense: a 28x28 matrix of pixels, many of which are non-zero, here we'll represent each document with a \"bag-of-words\" model. As you'll see, this makes the feature representation quite sparse -- only a few words of the total vocabulary are active in any given document. The bag-of-words assumption here is that the label depends only on the words; their order is not important.\n",
        "\n",
        "The SK-learn documentation on feature extraction will prove useful:\n",
        "http://scikit-learn.org/stable/modules/feature_extraction.html\n",
        "\n",
        "Each problem can be addressed succinctly with the included packages -- please don't add any more. Grading will be based on writing clean, commented code, along with a few short answers.\n",
        "\n",
        "As always, you're welcome to work on the project in groups and discuss ideas on the course wall, but please prepare your own write-up and write your own code."
      ]
    },
    {
      "cell_type": "code",
      "metadata": {
        "id": "TNIMozL_Mi1l",
        "colab_type": "code",
        "colab": {}
      },
      "source": [
        "# This tells matplotlib not to try opening a new window for each plot.\n",
        "%matplotlib inline\n",
        "\n",
        "# General libraries.\n",
        "import re\n",
        "import numpy as np\n",
        "import matplotlib.pyplot as plt\n",
        "\n",
        "# SK-learn libraries for learning.\n",
        "from sklearn.pipeline import Pipeline\n",
        "from sklearn.neighbors import KNeighborsClassifier\n",
        "from sklearn.linear_model import LogisticRegression\n",
        "from sklearn.naive_bayes import BernoulliNB\n",
        "from sklearn.naive_bayes import MultinomialNB\n",
        "from sklearn.model_selection import GridSearchCV\n",
        "\n",
        "# SK-learn libraries for evaluation.\n",
        "from sklearn.metrics import confusion_matrix\n",
        "from sklearn import metrics\n",
        "from sklearn.metrics import classification_report\n",
        "\n",
        "# SK-learn library for importing the newsgroup data.\n",
        "from sklearn.datasets import fetch_20newsgroups\n",
        "\n",
        "# SK-learn libraries for feature extraction from text.\n",
        "from sklearn.feature_extraction.text import *"
      ],
      "execution_count": 0,
      "outputs": []
    },
    {
      "cell_type": "markdown",
      "metadata": {
        "id": "NN9RZ1Q8Mi1n",
        "colab_type": "text"
      },
      "source": [
        "Load the data, stripping out metadata so that we learn classifiers that only use textual features. By default, newsgroups data is split into train and test sets. We further split the test so we have a dev set. Note that we specify 4 categories to use for this project. If you remove the categories argument from the fetch function, you'll get all 20 categories."
      ]
    },
    {
      "cell_type": "code",
      "metadata": {
        "id": "D3dJ1N2JMi1o",
        "colab_type": "code",
        "outputId": "79ade749-77a2-4f96-b27b-4df87cfda083",
        "colab": {
          "base_uri": "https://localhost:8080/",
          "height": 119
        }
      },
      "source": [
        "categories = ['alt.atheism', 'talk.religion.misc', 'comp.graphics', 'sci.space']\n",
        "newsgroups_train = fetch_20newsgroups(subset='train',\n",
        "                                      remove=('headers', 'footers', 'quotes'),\n",
        "                                      categories=categories)\n",
        "newsgroups_test = fetch_20newsgroups(subset='test',\n",
        "                                     remove=('headers', 'footers', 'quotes'),\n",
        "                                     categories=categories)\n",
        "\n",
        "num_test = len(newsgroups_test.target)\n",
        "test_data, test_labels = newsgroups_test.data[num_test/2:], newsgroups_test.target[num_test/2:]\n",
        "dev_data, dev_labels = newsgroups_test.data[:num_test/2], newsgroups_test.target[:num_test/2]\n",
        "train_data, train_labels = newsgroups_train.data, newsgroups_train.target\n",
        "\n",
        "print ('training label shape:', train_labels.shape)\n",
        "print ('test label shape:', test_labels.shape)\n",
        "print ('dev label shape:', dev_labels.shape)\n",
        "print ('labels names:', newsgroups_train.target_names)"
      ],
      "execution_count": 2,
      "outputs": [
        {
          "output_type": "stream",
          "text": [
            "Downloading 20news dataset. This may take a few minutes.\n",
            "Downloading dataset from https://ndownloader.figshare.com/files/5975967 (14 MB)\n"
          ],
          "name": "stderr"
        },
        {
          "output_type": "stream",
          "text": [
            "('training label shape:', (2034,))\n",
            "('test label shape:', (677,))\n",
            "('dev label shape:', (676,))\n",
            "('labels names:', ['alt.atheism', 'comp.graphics', 'sci.space', 'talk.religion.misc'])\n"
          ],
          "name": "stdout"
        }
      ]
    },
    {
      "cell_type": "markdown",
      "metadata": {
        "id": "LqBeCLHPMi1s",
        "colab_type": "text"
      },
      "source": [
        "(1) For each of the first 5 training examples, print the text of the message along with the label."
      ]
    },
    {
      "cell_type": "code",
      "metadata": {
        "id": "ZQuj_ukYMi1t",
        "colab_type": "code",
        "outputId": "01c6c7c1-f5e9-4c22-8fda-9f1979747279",
        "colab": {
          "base_uri": "https://localhost:8080/",
          "height": 1000
        }
      },
      "source": [
        "def P1(num_examples=5):\n",
        "  ## STUDENT START ###\n",
        "  for i in range(num_examples):\n",
        "    print(\"\\n****************\\nExample: {}, \\n****\\nText={}, \\n****\\nLabel={}\".\n",
        "          format(i, train_data[i], \n",
        "                 list(newsgroups_train.target_names)[train_labels[i]]))\n",
        "  ## STUDENT END ###\n",
        "\n",
        "P1()"
      ],
      "execution_count": 3,
      "outputs": [
        {
          "output_type": "stream",
          "text": [
            "\n",
            "****************\n",
            "Example: 0, \n",
            "****\n",
            "Text=Hi,\n",
            "\n",
            "I've noticed that if you only save a model (with all your mapping planes\n",
            "positioned carefully) to a .3DS file that when you reload it after restarting\n",
            "3DS, they are given a default position and orientation.  But if you save\n",
            "to a .PRJ file their positions/orientation are preserved.  Does anyone\n",
            "know why this information is not stored in the .3DS file?  Nothing is\n",
            "explicitly said in the manual about saving texture rules in the .PRJ file. \n",
            "I'd like to be able to read the texture rule information, does anyone have \n",
            "the format for the .PRJ file?\n",
            "\n",
            "Is the .CEL file format available from somewhere?\n",
            "\n",
            "Rych, \n",
            "****\n",
            "Label=comp.graphics\n",
            "\n",
            "****************\n",
            "Example: 1, \n",
            "****\n",
            "Text=\n",
            "\n",
            "Seems to be, barring evidence to the contrary, that Koresh was simply\n",
            "another deranged fanatic who thought it neccessary to take a whole bunch of\n",
            "folks with him, children and all, to satisfy his delusional mania. Jim\n",
            "Jones, circa 1993.\n",
            "\n",
            "\n",
            "Nope - fruitcakes like Koresh have been demonstrating such evil corruption\n",
            "for centuries., \n",
            "****\n",
            "Label=talk.religion.misc\n",
            "\n",
            "****************\n",
            "Example: 2, \n",
            "****\n",
            "Text=\n",
            " >In article <1993Apr19.020359.26996@sq.sq.com>, msb@sq.sq.com (Mark Brader) \n",
            "\n",
            "MB>                                                             So the\n",
            "MB> 1970 figure seems unlikely to actually be anything but a perijove.\n",
            "\n",
            "JG>Sorry, _perijoves_...I'm not used to talking this language.\n",
            "\n",
            "Couldn't we just say periapsis or apoapsis?\n",
            "\n",
            " , \n",
            "****\n",
            "Label=sci.space\n",
            "\n",
            "****************\n",
            "Example: 3, \n",
            "****\n",
            "Text=I have a request for those who would like to see Charley Wingate\n",
            "respond to the \"Charley Challenges\" (and judging from my e-mail, there\n",
            "appear to be quite a few of you.)  \n",
            "\n",
            "It is clear that Mr. Wingate intends to continue to post tangential or\n",
            "unrelated articles while ingoring the Challenges themselves.  Between\n",
            "the last two re-postings of the Challenges, I noted perhaps a dozen or\n",
            "more posts by Mr. Wingate, none of which answered a single Challenge.  \n",
            "\n",
            "It seems unmistakable to me that Mr. Wingate hopes that the questions\n",
            "will just go away, and he is doing his level best to change the\n",
            "subject.  Given that this seems a rather common net.theist tactic, I\n",
            "would like to suggest that we impress upon him our desire for answers,\n",
            "in the following manner:\n",
            "\n",
            "1. Ignore any future articles by Mr. Wingate that do not address the\n",
            "Challenges, until he answers them or explictly announces that he\n",
            "refuses to do so.\n",
            "\n",
            "--or--\n",
            "\n",
            "2. If you must respond to one of his articles, include within it\n",
            "something similar to the following:\n",
            "\n",
            "    \"Please answer the questions posed to you in the Charley Challenges.\"\n",
            "\n",
            "Really, I'm not looking to humiliate anyone here, I just want some\n",
            "honest answers.  You wouldn't think that honesty would be too much to\n",
            "ask from a devout Christian, would you?  \n",
            "\n",
            "Nevermind, that was a rhetorical question., \n",
            "****\n",
            "Label=alt.atheism\n",
            "\n",
            "****************\n",
            "Example: 4, \n",
            "****\n",
            "Text=AW&ST  had a brief blurb on a Manned Lunar Exploration confernce\n",
            "May 7th  at Crystal City Virginia, under the auspices of AIAA.\n",
            "\n",
            "Does anyone know more about this?  How much, to attend????\n",
            "\n",
            "Anyone want to go?, \n",
            "****\n",
            "Label=sci.space\n"
          ],
          "name": "stdout"
        }
      ]
    },
    {
      "cell_type": "markdown",
      "metadata": {
        "id": "dpieIoDRMi1v",
        "colab_type": "text"
      },
      "source": [
        "(2) Use CountVectorizer to turn the raw training text into feature vectors. You should use the fit_transform function, which makes 2 passes through the data: first it computes the vocabulary (\"fit\"), second it converts the raw text into feature vectors using the vocabulary (\"transform\").\n",
        "\n",
        "The vectorizer has a lot of options. To get familiar with some of them, write code to answer these questions:\n",
        "\n",
        "a. The output of the transform (also of fit_transform) is a sparse matrix: http://docs.scipy.org/doc/scipy-0.14.0/reference/generated/scipy.sparse.csr_matrix.html. What is the size of the vocabulary? What is the average number of non-zero features per example? What fraction of the entries in the matrix are non-zero? Hint: use \"nnz\" and \"shape\" attributes.\n",
        "\n",
        "b. What are the 0th and last feature strings (in alphabetical order)? Hint: use the vectorizer's get_feature_names function.\n",
        "\n",
        "c. Specify your own vocabulary with 4 words: [\"atheism\", \"graphics\", \"space\", \"religion\"]. Confirm the training vectors are appropriately shaped. Now what's the average number of non-zero features per example?\n",
        "\n",
        "d. Instead of extracting unigram word features, use \"analyzer\" and \"ngram_range\" to extract bigram and trigram character features. What size vocabulary does this yield?\n",
        "\n",
        "e. Use the \"min_df\" argument to prune words that appear in fewer than 10 documents. What size vocabulary does this yield?\n",
        "\n",
        "f. Using the standard CountVectorizer, what fraction of the words in the dev data are missing from the vocabulary? Hint: build a vocabulary for both train and dev and look at the size of the difference."
      ]
    },
    {
      "cell_type": "code",
      "metadata": {
        "id": "E5ykPdkDz2es",
        "colab_type": "code",
        "colab": {}
      },
      "source": [
        "def print_nth_feature_string(feature_row, feature_list):\n",
        "  vals = [feature_list[i] for i in feature_row.nonzero()[1]]\n",
        "  vals.sort()\n",
        "  return vals"
      ],
      "execution_count": 0,
      "outputs": []
    },
    {
      "cell_type": "code",
      "metadata": {
        "id": "zeG85plxMi1v",
        "colab_type": "code",
        "outputId": "449d10bc-d6fb-4706-cac9-180cce868a32",
        "colab": {
          "base_uri": "https://localhost:8080/",
          "height": 530
        }
      },
      "source": [
        "def P2():\n",
        "  ### STUDENT START ###\n",
        "  vectorizer = CountVectorizer()\n",
        "  X = vectorizer.fit_transform(train_data)\n",
        "  print(\"******** Question a ********\")\n",
        "  print(\"Size of corpus (Vocabulary): {} words\".format(X.shape[1]))\n",
        "#   print(len(vectorizer.get_feature_names()))\n",
        "  print(\"Average # Non-Zero Features Per Examples: {}\".\\\n",
        "        format( X.getnnz(axis=1).mean().round(1) ))\n",
        "  print(\"Fraction of entries in matrix non-zero: {}\".\\\n",
        "        format((float(X.nnz) / (X.shape[0]*X.shape[1]))))\n",
        "  \n",
        "  print(\"\\n******** Question b ********\")\n",
        "  print('0th feature string')\n",
        "  print(print_nth_feature_string(X.getrow(0), \n",
        "                           list(vectorizer.get_feature_names())))\n",
        "  print('Last feature string')\n",
        "  print(print_nth_feature_string(X.getrow(-1), \n",
        "                           list(vectorizer.get_feature_names())))\n",
        "  print(\"Note, Last document was null -- no values\")\n",
        "  \n",
        "  print(\"\\n******** Question c ********\")\n",
        "  new_vocab =  [\"atheism\", \"graphics\", \"space\", \"religion\"]\n",
        "  new_vocab_cols = [indx for indx, i in \n",
        "                    enumerate(list(vectorizer.get_feature_names())) \n",
        "                    if i in new_vocab]\n",
        "  print(\"Cols: {}\".format(new_vocab_cols))\n",
        "  #TODO - make this more efficient\n",
        "  new_X = X.todense()[:,new_vocab_cols]\n",
        "  print(\"New matrix shape: {}\".format(new_X.shape))\n",
        "#   print(new_X)\n",
        "  print(\"Average number of non-zero features per example: {}\".\\\n",
        "        format( (new_X>0).sum(axis=1).mean() ))\n",
        "  \n",
        "  print(\"\\n******** Question d ********\")\n",
        "  vectorizer_partD = CountVectorizer(ngram_range=(2,3), analyzer='word')\n",
        "  X_partD = vectorizer_partD.fit_transform(train_data)\n",
        "  print(\"Size of corpus (Vocabulary (ngrams)): {} words\".\\\n",
        "        format(X_partD.shape[1]))\n",
        "  print(\"Note above: size of vocabulary dramatically increases\")\n",
        "  \n",
        "  print(\"\\n******** Question e ********\")\n",
        "  vectorizer_partE = CountVectorizer(min_df=10)\n",
        "  X_partE = vectorizer_partE.fit_transform(train_data)\n",
        "  print(\"Size of corpus (Vocabulary) with min 10 documents: {} words\".\\\n",
        "        format(X_partE.shape[1]))\n",
        "  \n",
        "  print(\"\\n******** Question f ********\")\n",
        "  vectorizer_dev = CountVectorizer()\n",
        "  X_dev = vectorizer_dev.fit_transform(dev_data)\n",
        "  dev_labels = set(list(vectorizer_dev.get_feature_names()))\n",
        "  train_labels = set(list(vectorizer.get_feature_names()))\n",
        "  print(\"Words in Dev Vocab: {}\".format(len(dev_labels)))\n",
        "  print(\"Words in Train Vocab: {}\".format(len(train_labels)))\n",
        "  print(\"Words in Dev Vocab but not Train: {}\".\\\n",
        "        format(len(dev_labels - train_labels)))\n",
        "  print(\"Fraction of unique Dev Words missing from Train: {}\".\\\n",
        "        format( float(len(dev_labels - train_labels)) / len(dev_labels)))\n",
        "\n",
        "  ### STUDENT END ###\n",
        "P2()"
      ],
      "execution_count": 5,
      "outputs": [
        {
          "output_type": "stream",
          "text": [
            "******** Question a ********\n",
            "Size of corpus (Vocabulary): 26879 words\n",
            "Average # Non-Zero Features Per Examples: 96.7\n",
            "Fraction of entries in matrix non-zero: 0.00359782722696\n",
            "\n",
            "******** Question b ********\n",
            "0th feature string\n",
            "[u'3ds', u'able', u'about', u'after', u'all', u'and', u'anyone', u'are', u'available', u'be', u'but', u'carefully', u'cel', u'default', u'does', u'explicitly', u'file', u'for', u'format', u'from', u'given', u'have', u'hi', u'if', u'in', u'information', u'is', u'it', u'know', u'like', u'manual', u'mapping', u'model', u'not', u'nothing', u'noticed', u'only', u'orientation', u'planes', u'position', u'positioned', u'positions', u'preserved', u'prj', u'read', u'reload', u'restarting', u'rule', u'rules', u'rych', u'said', u'save', u'saving', u'somewhere', u'stored', u'texture', u'that', u'the', u'their', u'they', u'this', u'to', u've', u'when', u'why', u'with', u'you', u'your']\n",
            "Last feature string\n",
            "[]\n",
            "Note, Last document was null -- no values\n",
            "\n",
            "******** Question c ********\n",
            "Cols: [3866, 11552, 20430, 22567]\n",
            "New matrix shape: (2034, 4)\n",
            "Average number of non-zero features per example: 0.268436578171\n",
            "\n",
            "******** Question d ********\n",
            "Size of corpus (Vocabulary (ngrams)): 510583 words\n",
            "Note above: size of vocabulary dramatically increases\n",
            "\n",
            "******** Question e ********\n",
            "Size of corpus (Vocabulary) with min 10 documents: 3064 words\n",
            "\n",
            "******** Question f ********\n",
            "Words in Dev Vocab: 16246\n",
            "Words in Train Vocab: 26879\n",
            "Words in Dev Vocab but not Train: 4027\n",
            "Fraction of unique Dev Words missing from Train: 0.247876400345\n"
          ],
          "name": "stdout"
        }
      ]
    },
    {
      "cell_type": "markdown",
      "metadata": {
        "id": "9g8xnR_kMi1x",
        "colab_type": "text"
      },
      "source": [
        "(3) Use the default CountVectorizer options and report the f1 score (use metrics.f1_score) for a k nearest neighbors classifier; find the optimal value for k. Also fit a Multinomial Naive Bayes model and find the optimal value for alpha. Finally, fit a logistic regression model and find the optimal value for the regularization strength C using l2 regularization. A few questions:\n",
        "\n",
        "a. Why doesn't nearest neighbors work well for this problem?\n",
        "\n",
        "b. Any ideas why logistic regression doesn't work as well as Naive Bayes?\n",
        "\n",
        "c. Logistic regression estimates a weight vector for each class, which you can access with the coef\\_ attribute. Output the sum of the squared weight values for each class for each setting of the C parameter. Briefly explain the relationship between the sum and the value of C."
      ]
    },
    {
      "cell_type": "code",
      "metadata": {
        "id": "t9ih1v2AMi1y",
        "colab_type": "code",
        "outputId": "d1a7966e-17cd-40b3-9c4c-81284ede6038",
        "colab": {
          "base_uri": "https://localhost:8080/",
          "height": 697
        }
      },
      "source": [
        "def P3():\n",
        "  ### STUDENT START ###\n",
        "  vectorizer = CountVectorizer()\n",
        "  X = vectorizer.fit_transform(train_data)\n",
        "  \n",
        "  knn_param_grid = {'n_neighbors': [2, 4, 8, 16, 32]}\n",
        "#   knn_param_grid = {'n_neighbors': [3,4]}\n",
        "  nb_param_grid = {'alpha': [0.0, 0.001, 0.01, 0.1, 0.5, 1.0, 2.0, 10.0]}\n",
        "#   nb_param_grid = {'alpha': [0.001, 0.01]}\n",
        "  log_param_grid = {'C': [0.00001, 0.001, 0.01, 0.1, 0.5, 1.0]}\n",
        "#   log_param_grid = {'C': [0.001, 0.01]}\n",
        "\n",
        "  # FIT KNN\n",
        "  knn=KNeighborsClassifier()\n",
        "  knn_grid = GridSearchCV(knn, knn_param_grid, cv=5, scoring='f1_micro', \n",
        "                      refit=True, verbose=0)  \n",
        "  knn_grid.fit(X, train_labels)\n",
        "  \n",
        "  # FIT NB\n",
        "  nb=MultinomialNB()\n",
        "  nb_grid = GridSearchCV(nb, nb_param_grid, cv=5, scoring='f1_micro', \n",
        "                      refit=True, verbose=0)  \n",
        "  nb_grid.fit(X, train_labels)\n",
        "  \n",
        "  # LOG Reg\n",
        "  logreg=LogisticRegression(penalty='l2', multi_class='auto')\n",
        "  logreg_grid = GridSearchCV(logreg, log_param_grid, cv=5, scoring='f1_micro', \n",
        "                      refit=True, verbose=0)  \n",
        "  logreg_grid.fit(X, train_labels)\n",
        "\n",
        "  \n",
        "  print(\"******** Question a ********\")\n",
        "  print('Best KNN Params: {}'.format(knn_grid.best_params_))\n",
        "  print('Best KNN F1: {}'.format(knn_grid.best_score_))\n",
        "  \n",
        "  print('Best NB Params: {}'.format(nb_grid.best_params_))\n",
        "  print('Best NB F1: {}'.format(nb_grid.best_score_))\n",
        "  \n",
        "  print('Best Logit Regression Params: {}'.format(logreg_grid.best_params_))\n",
        "  print('Best Logit Regression F1: {}'.format(logreg_grid.best_score_))\n",
        "\n",
        "  print(\"Looking at logistic regression coefs now\")\n",
        "  # don't believe I have access to coefs_ with grid serach, but will rerun\n",
        "  # without grid search\n",
        "\n",
        "  \n",
        "  clf_lst = [LogisticRegression(penalty='l2', multi_class='auto', C = c) for \n",
        "    c in log_param_grid['C']]\n",
        "  \n",
        "  \n",
        "  # do for eaach value of C\n",
        "  for i, clf in enumerate(clf_lst):\n",
        "    clf.fit(X, train_labels)\n",
        "\n",
        "    print(\"C val: {}\".format(log_param_grid['C'][i]))\n",
        "    # calc sum of squares of coef\n",
        "    \n",
        "    # for each class\n",
        "    for j in range(len(categories)):\n",
        "      sum_squares = 0\n",
        "      for k in clf.coef_[j]:\n",
        "        sum_squares += k **2\n",
        "      print(sum_squares)\n",
        "\n",
        "  ### STUDENT END ###\n",
        "P3()"
      ],
      "execution_count": 13,
      "outputs": [
        {
          "output_type": "stream",
          "text": [
            "/usr/local/lib/python2.7/dist-packages/sklearn/naive_bayes.py:480: UserWarning: alpha too small will result in numeric errors, setting alpha = 1.0e-10\n",
            "  'setting alpha = %.1e' % _ALPHA_MIN)\n"
          ],
          "name": "stderr"
        },
        {
          "output_type": "stream",
          "text": [
            "******** Question a ********\n",
            "Best KNN Params: {'n_neighbors': 8}\n",
            "Best KNN F1: 0.43215339233\n",
            "Best NB Params: {'alpha': 0.01}\n",
            "Best NB F1: 0.828416912488\n",
            "Best Logit Regression Params: {'C': 0.5}\n",
            "Best Logit Regression F1: 0.778269419862\n",
            "Looking at logistic regression coefs now\n",
            "C val: 1e-05\n",
            "0.0003135077976546245\n",
            "0.0006101265330067586\n",
            "0.0003848293888889098\n",
            "0.0003414566121614291\n",
            "C val: 0.001\n",
            "0.1650934517100945\n",
            "0.2009527469058052\n",
            "0.18067093752539456\n",
            "0.18724278437842412\n",
            "C val: 0.01\n",
            "2.5414724178403385\n",
            "2.939709368365755\n",
            "2.862468667787995\n",
            "2.250026673882611\n",
            "C val: 0.1\n",
            "27.13034694888936\n",
            "24.65563866728689\n",
            "27.458834803055403\n",
            "23.025168379795062\n",
            "C val: 0.5\n",
            "102.62295815695386\n",
            "83.1170631651981\n",
            "99.02625664392062\n",
            "89.01107674507814\n",
            "C val: 1.0\n",
            "166.90926443149039\n",
            "130.8855026830024\n",
            "157.9612983459227\n",
            "145.72854664270912\n"
          ],
          "name": "stdout"
        }
      ]
    },
    {
      "cell_type": "markdown",
      "metadata": {
        "id": "djm_sY_nMi10",
        "colab_type": "text"
      },
      "source": [
        "ANSWER:<p>\n",
        "a. **Why doesn't nearest neighbors work well for this problem?**\n",
        "The distance metric we are using to calculate \"nearest\" doesn't make sense for this text classification so it's no wonder that the usage of it is not helpful.\n",
        "  \n",
        "b. **Any ideas why logistic regression doesn't work as well as Naive Bayes?**\n",
        "It's not a linear problem. The naive bayes model is teasing out some non-linearity that the logistic regression can't.\n",
        "  \n",
        "c. Logistic regression estimates a weight vector for each class, which you can access with the coef_ attribute. **Output the sum of the squared weight values for each class for each setting of the C parameter. Briefly explain the relationship between the sum and the value of C.** -- output is above but as value of C increases, (less regularization), coefficient values are higher"
      ]
    },
    {
      "cell_type": "markdown",
      "metadata": {
        "id": "eUxjopZDMi11",
        "colab_type": "text"
      },
      "source": [
        "(4) Train a logistic regression model. Find the 5 features with the largest weights for each label -- 20 features in total. Create a table with 20 rows and 4 columns that shows the weight for each of these features for each of the labels. Create the table again with bigram features. Any surprising features in this table?"
      ]
    },
    {
      "cell_type": "code",
      "metadata": {
        "id": "bA3_SpjJMi12",
        "colab_type": "code",
        "outputId": "a5b885f4-f9fc-4394-c769-d938b28e3b3f",
        "colab": {
          "base_uri": "https://localhost:8080/",
          "height": 870
        }
      },
      "source": [
        "# import one package -- I know documentation says not to do so, but this\n",
        "# would be native in python3 but top section written for python2\n",
        "# only purpose is a few options with print to not include newline\n",
        "\n",
        "from __future__ import print_function\n",
        "\n",
        "def P4():\n",
        "  ### STUDENT START ###\n",
        "  vectorizer = CountVectorizer()\n",
        "  X = vectorizer.fit_transform(train_data)\n",
        "  \n",
        "  logit_clf = LogisticRegression(penalty='l1', C=0.5)\n",
        "  logit_clf.fit(X, train_labels)\n",
        "  \n",
        "  # Get top features with the largest weights for each label\n",
        "  \n",
        "  all_feature_indx = []\n",
        "  for i in range(0,len(categories)):\n",
        "    indx = logit_clf.coef_[i].argsort()[-5:][::-1]\n",
        "    cols = [vectorizer.get_feature_names()[j] for j in indx]\n",
        "    vals = [logit_clf.coef_[i][j] for j in indx]\n",
        "#     print(\"Indexes: {}\".format(indx))\n",
        "#     print(\"Columns: {}\".format(cols))\n",
        "#     print(\"Values: {}\".format(vals))\n",
        "    # store features\n",
        "    all_feature_indx.extend(indx)\n",
        "  \n",
        "  \n",
        "  # Now should have alal the indexes of columns in list -- can produce table\n",
        "  for r in ['Feature']+categories:\n",
        "    print(r + \"         \", end='')\n",
        "  \n",
        "  \n",
        "  for k in all_feature_indx:\n",
        "    print(\"\\n{}\".format(vectorizer.get_feature_names()[k]), end='')\n",
        "    # if short name, add extra tab\n",
        "    if len(vectorizer.get_feature_names()[k]) < 7:\n",
        "      print(\"\\t\", end='')\n",
        "    print(\"\\t\", end='')\n",
        "    for i,r in enumerate(categories):\n",
        "      print(\"{}\".format(logit_clf.coef_[i][k].round(3)), end='')\n",
        "      print(\"\\t\"*3, end='')\n",
        "    \n",
        "    \n",
        "  print(\"\\n\\n******** Now with bi-grams ********\\n\")\n",
        "\n",
        "  # now do the same with bi-grams\n",
        "  vectorizer_bigram = CountVectorizer(ngram_range=(2,2), analyzer='word')\n",
        "  X_bigram = vectorizer_bigram.fit_transform(train_data)\n",
        "  \n",
        "  logit_bigram_clf = LogisticRegression(penalty='l1', C=0.5)\n",
        "  logit_bigram_clf.fit(X, train_labels)\n",
        "  \n",
        "  bg_all_feature_indx = []\n",
        "  for i in range(0,len(categories)):\n",
        "    bg_indx = logit_bigram_clf.coef_[i].argsort()[-5:][::-1]\n",
        "    bg_cols = [vectorizer_bigram.get_feature_names()[j] for j in bg_indx]\n",
        "    bg_vals = [logit_bigram_clf.coef_[i][j] for j in bg_indx]\n",
        "#     print(\"Indexes: {}\".format(bg_indx))\n",
        "#     print(\"Columns: {}\".format(bg_cols))\n",
        "#     print(\"Values: {}\".format(bg_vals))\n",
        "    # store features\n",
        "    bg_all_feature_indx.extend(bg_indx)\n",
        "  \n",
        "  \n",
        "  # Now should have alal the indexes of columns in list -- can produce table\n",
        "  for r in ['Feature']+categories:\n",
        "    print(r + \"         \", end='')\n",
        "  \n",
        "  \n",
        "  for k in bg_all_feature_indx:\n",
        "    print(\"\\n{}\".format(vectorizer_bigram.get_feature_names()[k]), end='')\n",
        "    # if short name, add extra tab\n",
        "    if len(vectorizer_bigram.get_feature_names()[k]) < 6:\n",
        "      print(\"\\t\", end='')\n",
        "    if len(vectorizer_bigram.get_feature_names()[k]) < 16:\n",
        "      print(\"\\t\", end='')\n",
        "\n",
        "    print(\"\\t\", end='')\n",
        "    for i,r in enumerate(categories):\n",
        "      print(\"{}\".format(logit_bigram_clf.coef_[i][k].round(3)), end='')\n",
        "      print(\"\\t\"*3, end='')\n",
        "\n",
        "  ### STUDENT END ###\n",
        "P4()"
      ],
      "execution_count": 7,
      "outputs": [
        {
          "output_type": "stream",
          "text": [
            "/usr/local/lib/python2.7/dist-packages/sklearn/linear_model/logistic.py:460: FutureWarning: Default multi_class will be changed to 'auto' in 0.22. Specify the multi_class option to silence this warning.\n",
            "  \"this warning.\", FutureWarning)\n",
            "/usr/local/lib/python2.7/dist-packages/sklearn/svm/base.py:931: ConvergenceWarning: Liblinear failed to converge, increase the number of iterations.\n",
            "  \"the number of iterations.\", ConvergenceWarning)\n"
          ],
          "name": "stderr"
        },
        {
          "output_type": "stream",
          "text": [
            "Feature         alt.atheism         talk.religion.misc         comp.graphics         sci.space         \n",
            "tek\t\t2.288\t\t\t0.0\t\t\t0.0\t\t\t-0.3\t\t\t\n",
            "bobby\t\t2.041\t\t\t0.0\t\t\t-0.363\t\t\t-0.416\t\t\t\n",
            "atheists\t1.368\t\t\t0.0\t\t\t0.0\t\t\t-0.878\t\t\t\n",
            "cobb\t\t1.358\t\t\t0.0\t\t\t0.0\t\t\t0.0\t\t\t\n",
            "tells\t\t1.301\t\t\t0.0\t\t\t0.0\t\t\t-0.475\t\t\t\n",
            "graphics\t-1.152\t\t\t2.701\t\t\t-2.329\t\t\t-0.943\t\t\t\n",
            "3d\t\t-0.035\t\t\t2.133\t\t\t-0.869\t\t\t-0.254\t\t\t\n",
            "file\t\t-0.24\t\t\t1.701\t\t\t-1.137\t\t\t-0.479\t\t\t\n",
            "image\t\t-0.697\t\t\t1.586\t\t\t-0.73\t\t\t-0.229\t\t\t\n",
            "68070\t\t0.0\t\t\t1.53\t\t\t0.0\t\t\t0.0\t\t\t\n",
            "space\t\t-1.591\t\t\t-0.802\t\t\t2.563\t\t\t-2.115\t\t\t\n",
            "orbit\t\t-0.376\t\t\t-0.727\t\t\t2.409\t\t\t-0.746\t\t\t\n",
            "spacecraft\t-0.238\t\t\t-0.229\t\t\t1.732\t\t\t0.0\t\t\t\n",
            "launch\t\t-0.305\t\t\t-0.289\t\t\t1.596\t\t\t-0.081\t\t\t\n",
            "23\t\t0.0\t\t\t0.0\t\t\t1.548\t\t\t0.0\t\t\t\n",
            "blood\t\t-0.755\t\t\t0.0\t\t\t0.0\t\t\t2.026\t\t\t\n",
            "fbi\t\t0.0\t\t\t0.0\t\t\t-0.396\t\t\t1.86\t\t\t\n",
            "christians\t-0.877\t\t\t-0.021\t\t\t-0.378\t\t\t1.359\t\t\t\n",
            "order\t\t-1.116\t\t\t0.0\t\t\t0.0\t\t\t1.276\t\t\t\n",
            "christ\t\t-0.448\t\t\t0.0\t\t\t0.0\t\t\t1.187\t\t\t\n",
            "\n",
            "******** Now with bi-grams ********\n",
            "\n",
            "Feature         alt.atheism         talk.religion.misc         comp.graphics         sci.space         \n",
            "atlas 580\t\t2.289\t\t\t0.0\t\t\t0.0\t\t\t-0.301\t\t\t\n",
            "42 does\t\t2.04\t\t\t0.0\t\t\t-0.363\t\t\t-0.416\t\t\t\n",
            "30 fps\t\t1.368\t\t\t0.0\t\t\t0.0\t\t\t-0.878\t\t\t\n",
            "790 kg\t\t1.36\t\t\t0.0\t\t\t0.0\t\t\t0.0\t\t\t\n",
            "atmos experiment\t1.299\t\t\t0.0\t\t\t0.0\t\t\t-0.474\t\t\t\n",
            "all then\t\t-1.151\t\t\t2.768\t\t\t-2.328\t\t\t-0.943\t\t\t\n",
            "13 ra\t\t\t-0.035\t\t\t2.009\t\t\t-0.869\t\t\t-0.254\t\t\t\n",
            "am fairly\t\t-0.698\t\t\t1.755\t\t\t-0.73\t\t\t-0.229\t\t\t\n",
            "against tyre\t\t-0.24\t\t\t1.64\t\t\t-1.137\t\t\t-0.48\t\t\t\n",
            "assist like\t\t0.0\t\t\t1.47\t\t\t0.0\t\t\t0.0\t\t\t\n",
            "aslv 150\t\t-1.591\t\t\t-1.261\t\t\t2.563\t\t\t-2.115\t\t\t\n",
            "another insulting\t-0.376\t\t\t-0.697\t\t\t2.409\t\t\t-0.746\t\t\t\n",
            "asp astrobee\t\t-0.238\t\t\t-0.097\t\t\t1.732\t\t\t0.0\t\t\t\n",
            "and chemical\t\t-0.304\t\t\t-0.232\t\t\t1.596\t\t\t-0.081\t\t\t\n",
            "11 89\t\t\t0.0\t\t\t0.0\t\t\t1.548\t\t\t0.0\t\t\t\n",
            "41 germany\t\t-0.756\t\t\t0.0\t\t\t0.0\t\t\t2.025\t\t\t\n",
            "again especially\t0.0\t\t\t0.0\t\t\t-0.396\t\t\t1.86\t\t\t\n",
            "70 million\t\t-0.876\t\t\t0.0\t\t\t-0.378\t\t\t1.359\t\t\t\n",
            "another mathematical\t-1.117\t\t\t0.0\t\t\t0.0\t\t\t1.276\t\t\t\n",
            "70 believe\t\t-0.448\t\t\t0.0\t\t\t0.0\t\t\t1.188\t\t\t"
          ],
          "name": "stdout"
        }
      ]
    },
    {
      "cell_type": "markdown",
      "metadata": {
        "id": "XPSBSm6-Mi16",
        "colab_type": "text"
      },
      "source": [
        "ANSWER: I wouldn't say that there are surprising features, but there are some interesting ones. It's notable that there are so many with numbers. This may be something we may want to use a regex to collapse the grams that are just numbers into single numeric grams. There are a few grams like \"all then\" that would be good to omit as stop words in the future.<p>\n",
        "  \n",
        "  Note: sorry my tables aren't perfectly straight -- I would typically just import pandas and use that functionality, but that's against the importing rules at top."
      ]
    },
    {
      "cell_type": "markdown",
      "metadata": {
        "id": "JjrjrEN-Mi17",
        "colab_type": "text"
      },
      "source": [
        "(5) Try to improve the logistic regression classifier by passing a custom preprocessor to CountVectorizer. The preprocessing function runs on the raw text, before it is split into words by the tokenizer. Your preprocessor should try to normalize the input in various ways to improve generalization. For example, try lowercasing everything, replacing sequences of numbers with a single token, removing various other non-letter characters, and shortening long words. If you're not already familiar with regular expressions for manipulating strings, see https://docs.python.org/2/library/re.html, and re.sub() in particular. With your new preprocessor, how much did you reduce the size of the dictionary?\n",
        "\n",
        "For reference, I was able to improve dev F1 by 2 points."
      ]
    },
    {
      "cell_type": "code",
      "metadata": {
        "id": "Xd83BR65Mi18",
        "colab_type": "code",
        "outputId": "4f6301b7-baad-462e-9d7c-90c6e79890b1",
        "colab": {
          "base_uri": "https://localhost:8080/",
          "height": 85
        }
      },
      "source": [
        "def empty_preprocessor(s):\n",
        "   return s\n",
        "\n",
        "def better_preprocessor(s):\n",
        "  ### STUDENT START ###\n",
        "  # convert all to lower\n",
        "  s = s.lower()\n",
        "  \n",
        "  # standardize conjunctions\n",
        "  s = re.sub(r\"what's\", \"what is \", s)\n",
        "  s = re.sub(r\"\\'s\", \" \", s)\n",
        "  s = re.sub(r\"\\'ve\", \" have \", s)\n",
        "  s = re.sub(r\"can't\", \"can not \", s)\n",
        "  s = re.sub(r\"i'm\", \"i am \", s)\n",
        "  s = re.sub(r\"\\'re\", \" are \", s)\n",
        "  s = s.strip(' ')\n",
        "  return s\n",
        "  ### STUDENT END ###\n",
        "\n",
        "stop_words = ['as', 'its', \"it's\", 'all', 'then', 'and', 'hers', \n",
        "              'between', 'yourself', 'but', 'again', 'there', 'about', \n",
        "              'once', 'during', 'out', 'very', 'having', 'with', 'they', \n",
        "              'own', 'an', 'be', 'some', 'for', 'do', 'its', 'yours', 'such',\n",
        "              'into', 'of', 'most', 'itself', 'other', 'off', 'is', 'as', 'am', \n",
        "              'or', 'who', 'as', 'from', 'him', 'each', 'the', 'themselves',\n",
        "              'until', 'below', 'are', 'we', 'these', 'your', 'his', 'through']\n",
        "\n",
        "\n",
        "def P5():\n",
        "  ### STUDENT START ###\n",
        "  \n",
        "  # version 1 - empty preprocessor\n",
        "  vectorizer_base = CountVectorizer(preprocessor=empty_preprocessor)\n",
        "  X = vectorizer_base.fit_transform(train_data)\n",
        "  \n",
        "  print('Size of Empty Vocabulary: {}'.format(X.shape[1]))\n",
        "  logit_clf = LogisticRegression(penalty='l1', C=0.5, multi_class='auto')\n",
        "  logit_clf.fit(X, train_labels)\n",
        "  \n",
        "  X_test = vectorizer_base.transform(test_data)\n",
        "  y_pred = logit_clf.predict(X_test)\n",
        "  f1 = metrics.f1_score(test_labels, y_pred, average='micro')\n",
        "  print(\"f1_base: \", f1.round(2))\n",
        "  \n",
        "  # version 2 - custom preprocessor\n",
        "  vectorizer_imp = CountVectorizer(preprocessor=better_preprocessor, \n",
        "                               stop_words=stop_words)\n",
        "  X = vectorizer_imp.fit_transform(train_data)\n",
        "  \n",
        "  print('Size of Better Vocabulary: {}'.format(X.shape[1]))\n",
        "  logit_clf = LogisticRegression(penalty='l1', C=0.5, multi_class='auto')\n",
        "  logit_clf.fit(X, train_labels)\n",
        "  \n",
        "  \n",
        "  \n",
        "  X_test = vectorizer_imp.transform(test_data)\n",
        "  y_pred = logit_clf.predict(X_test)\n",
        "  f1 = metrics.f1_score(test_labels, y_pred, average='micro')\n",
        "  print(\"f1_base: \", f1.round(2))\n",
        "#   f1_score(y_true, y_pred, average='macro') \n",
        "  ### STUDENT END ###\n",
        "\n",
        "P5()"
      ],
      "execution_count": 12,
      "outputs": [
        {
          "output_type": "stream",
          "text": [
            "Size of Empty Vocabulary: 33291\n",
            "f1_base:  0.71\n",
            "Size of Better Vocabulary: 26856\n",
            "f1_base:  0.73\n"
          ],
          "name": "stdout"
        }
      ]
    },
    {
      "cell_type": "markdown",
      "metadata": {
        "id": "gFoL0LpEZ_yO",
        "colab_type": "text"
      },
      "source": [
        "Above: Reduced size of dictionary by 6435 words"
      ]
    },
    {
      "cell_type": "markdown",
      "metadata": {
        "id": "TbwWNF3SMi1-",
        "colab_type": "text"
      },
      "source": [
        "(6) The idea of regularization is to avoid learning very large weights (which are likely to fit the training data, but not generalize well) by adding a penalty to the total size of the learned weights. That is, logistic regression seeks the set of weights that minimizes errors in the training data AND has a small size. The default regularization, L2, computes this size as the sum of the squared weights (see P3, above). L1 regularization computes this size as the sum of the absolute values of the weights. The result is that whereas L2 regularization makes all the weights relatively small, L1 regularization drives lots of the weights to 0, effectively removing unimportant features.\n",
        "\n",
        "Train a logistic regression model using a \"l1\" penalty. Output the number of learned weights that are not equal to zero. How does this compare to the number of non-zero weights you get with \"l2\"? Now, reduce the size of the vocabulary by keeping only those features that have at least one non-zero weight and retrain a model using \"l2\".\n",
        "\n",
        "Make a plot showing accuracy of the re-trained model vs. the vocabulary size you get when pruning unused features by adjusting the C parameter.\n",
        "\n",
        "Note: The gradient descent code that trains the logistic regression model sometimes has trouble converging with extreme settings of the C parameter. Relax the convergence criteria by setting tol=.01 (the default is .0001)."
      ]
    },
    {
      "cell_type": "code",
      "metadata": {
        "id": "ZVo9cdmbMi1_",
        "colab_type": "code",
        "outputId": "ff46d5b7-c1c6-4c91-a706-161691bb7191",
        "colab": {
          "base_uri": "https://localhost:8080/",
          "height": 346
        }
      },
      "source": [
        "def P6():\n",
        "  \n",
        "  # Keep this random seed here to make comparison easier.\n",
        "  np.random.seed(0)\n",
        "\n",
        "  ### STUDENT START ###\n",
        "  \n",
        "#   print(\"**Part 1 - Train using L1 penalty & count non-zero learned weights**\")\n",
        "  vectorizer = CountVectorizer()\n",
        "  X = vectorizer.fit_transform(train_data)\n",
        "  \n",
        "  logit_clf = LogisticRegression(penalty='l1', C=0.1, tol=0.01)\n",
        "  logit_clf.fit(X, train_labels)\n",
        "  \n",
        "  \n",
        "  nNon_zero = 0\n",
        "  keep_word_vector = np.zeros(X.shape[1])\n",
        "  keep_word_index_list = []\n",
        "  \n",
        "  # for each class\n",
        "  for j in range(len(categories)):\n",
        "    for indx,k in enumerate(logit_clf.coef_[j]):\n",
        "      if abs(k)>0:\n",
        "        nNon_zero+=1\n",
        "        keep_word_vector[indx]=1\n",
        "        keep_word_index_list.append(indx)\n",
        "        \n",
        "  print(\"Number nonzero coefs using L1 (all classes): {}\".format(nNon_zero))\n",
        "  \n",
        "  # now compare to what this would have been with L2\n",
        "#   print(\"**Non-Zero size (what would have been with L2) **\")\n",
        "  logitL2_clf = LogisticRegression(penalty='l2', C=0.1, tol=0.01)\n",
        "  logitL2_clf.fit(X, train_labels)\n",
        "  \n",
        "  nNon_zeroL2 = 0\n",
        "  # for each class\n",
        "  for j in range(len(categories)):\n",
        "    for indx,k in enumerate(logitL2_clf.coef_[j]):\n",
        "      if abs(k)>0:\n",
        "        nNon_zeroL2+=1\n",
        "        \n",
        "  print(\"Number nonzero coefs using L2 (all classes): {}\".format(nNon_zeroL2))\n",
        "  \n",
        "#   print(\"**Part 2 - Reduce size of vocab and re-train model using L2**\")\n",
        "  print(\"** Plot accuracy of the re-trained model vs. vocabulary size **\")\n",
        "  \n",
        "  def find_len_accuracy(X, y, c):\n",
        "    ''' uses L1 regularization and C value to find non-zero parameters\n",
        "    to determine vocabulary from training data, \n",
        "    then fits model with L2 to this and calculates accuracy based on test data\n",
        "    '''\n",
        "    \n",
        "    l_clf = LogisticRegression(penalty='l1', C=c, tol=0.01)\n",
        "    l_clf.fit(X, y)\n",
        "    \n",
        "    nNon_zero = 0\n",
        "    keep_word_vector = np.zeros(X.shape[1])\n",
        "    keep_word_index_list = []\n",
        "\n",
        "    # for each class\n",
        "    for j in range(len(categories)):\n",
        "      for indx,k in enumerate(l_clf.coef_[j]):\n",
        "        if abs(k)>0:\n",
        "          nNon_zero+=1\n",
        "          keep_word_vector[indx]=1\n",
        "          keep_word_index_list.append(indx)\n",
        "    \n",
        "    X2 = X[:,list(set(keep_word_index_list))].copy()\n",
        "    \n",
        "    # doing this with constant value of C so can make comparisons\n",
        "    logR = LogisticRegression(penalty='l2', multi_class='auto', \n",
        "                              C = 0.3, tol=0.01)\n",
        "    logR.fit(X2, y)\n",
        "    \n",
        "    # now calculate accuracy using test data -- need to vectorize \n",
        "    # TODO - use pipeline\n",
        "    # test_data, test_labels\n",
        "    \n",
        "    # vectorize test data and then drop columns using keep_word_index_list\n",
        "    X_test = vectorizer.transform(test_data)\\\n",
        "                [:,list(set(keep_word_index_list))].copy()\n",
        "    \n",
        "    y_pred = logR.predict(X_test)\n",
        "    acc = metrics.accuracy_score(test_labels, y_pred)\n",
        "#     print(\"acc: \", acc)\n",
        "    return (nNon_zero, acc)\n",
        "  \n",
        "  \n",
        "  # Run the above function for these values of C\n",
        "  log_param_grid = {'C': np.arange(0.1, 1, 0.05)}\n",
        "#   log_param_grid = {'C': np.arange(0.1, 1, 0.2)}\n",
        "  size = []\n",
        "  acc = []\n",
        "  for c in log_param_grid['C']:\n",
        "    (s, a) = find_len_accuracy(X, train_labels, c)\n",
        "    size.append(s)\n",
        "    acc.append(a)\n",
        "\n",
        "#   print(\"size: \",size)\n",
        "#   print(\"acc: \",acc)\n",
        "  plt.scatter(size, acc)\n",
        "  plt.title(\"Dictionary Size vs Accuracy\")\n",
        "  plt.xlabel(\"Size of dictionary\")\n",
        "  plt.ylabel(\"Accuracy\")\n",
        "  plt.show()\n",
        "  ### STUDENT END ###\n",
        "P6()"
      ],
      "execution_count": 9,
      "outputs": [
        {
          "output_type": "stream",
          "text": [
            "Number nonzero coefs using L1 (all classes): 368\n",
            "Number nonzero coefs using L2 (all classes): 107516\n",
            "** Plot accuracy of the re-trained model vs. vocabulary size **\n"
          ],
          "name": "stdout"
        },
        {
          "output_type": "display_data",
          "data": {
            "image/png": "[encoded data removed]",
            "text/plain": [
              "<Figure size 432x288 with 1 Axes>"
            ]
          },
          "metadata": {
            "tags": []
          }
        }
      ]
    },
    {
      "cell_type": "markdown",
      "metadata": {
        "id": "SxkspPlKMi2B",
        "colab_type": "text"
      },
      "source": [
        "(7) Use the TfidfVectorizer -- how is this different from the CountVectorizer? Train a logistic regression model with C=100.\n",
        "\n",
        "Make predictions on the dev data and show the top 3 documents where the ratio R is largest, where R is:\n",
        "\n",
        "maximum predicted probability / predicted probability of the correct label\n",
        "\n",
        "What kinds of mistakes is the model making? Suggest a way to address one particular issue that you see."
      ]
    },
    {
      "cell_type": "code",
      "metadata": {
        "id": "bUWeJnhVBYtk",
        "colab_type": "code",
        "colab": {}
      },
      "source": [
        "def print_document(df, df_labels, indx, misclass):\n",
        "  for count, i in enumerate(indx):\n",
        "    print(\"\\n*************\\nExample: {} \\n****\\nText:\\n{} \\n****\\nLabel={}\".\n",
        "          format(count+1, df[i], \n",
        "                 list(newsgroups_train.target_names)[df_labels[i]]))\n",
        "    print(\"Misclassed as {}\".format(list(newsgroups_train.target_names)[misclass[count]]))"
      ],
      "execution_count": 0,
      "outputs": []
    },
    {
      "cell_type": "code",
      "metadata": {
        "id": "nhuUEokjMi2C",
        "colab_type": "code",
        "outputId": "277df5b8-fe83-4583-8a03-80da5f8992ec",
        "colab": {
          "base_uri": "https://localhost:8080/",
          "height": 1000
        }
      },
      "source": [
        "# dev_data, dev_labels\n",
        "def P7():\n",
        "  ### STUDENT START ###\n",
        "  # TODO: pipeline\n",
        "  tfidf_vectorizer = TfidfVectorizer()\n",
        "  X = tfidf_vectorizer.fit_transform(train_data)\n",
        "  \n",
        "  clf = LogisticRegression(penalty='l2', C=100)\n",
        "  clf.fit(X, train_labels)\n",
        "  \n",
        "  dev_X = tfidf_vectorizer.transform(dev_data)\n",
        "  \n",
        "  y_pred = clf.predict(dev_X)\n",
        "  y_proba = clf.predict_proba(dev_X)\n",
        "  \n",
        "  nShow = 6\n",
        "  max_pred_prob = y_proba.max(axis=1)\n",
        "  pred_proba_correct_label = y_proba[np.arange(len(y_proba)), dev_labels]\n",
        "  correct_pred = y_pred == dev_labels\n",
        "  R_Vals = max_pred_prob / pred_proba_correct_label\n",
        "\n",
        "  # get top 3 vals and print them\n",
        "  indx = R_Vals.argsort()[::-1][:3]\n",
        "  misclasses=[y_pred[j] for j in indx.tolist()]\n",
        "  print_document(dev_data, dev_labels, indx, misclasses)\n",
        "  \n",
        "  print(\"**** So what mistakes is this making? ****\")\n",
        "  print(\"Confusion Matrix:\")\n",
        "  print(confusion_matrix(y_true=dev_labels, \n",
        "                         y_pred=y_pred))\n",
        "#                          labels=newsgroups_train.target_names))\n",
        "  print(\"Labels for matrix above:\")\n",
        "  for i in range(len(list(newsgroups_train.target_names))):\n",
        "    print(list(newsgroups_train.target_names)[i])\n",
        "  ## STUDENT END ###\n",
        "P7()"
      ],
      "execution_count": 11,
      "outputs": [
        {
          "output_type": "stream",
          "text": [
            "\n",
            "*************\n",
            "Example: 1 \n",
            "****\n",
            "Text:\n",
            "I am pleased to announce that a *revised version* of _The Easy-to-Read Book\n",
            "of Mormon_ (former title: _Mormon's Book_) by Lynn Matthews Anderson is now\n",
            "available through anonymous ftp (see information below). In addition to the\n",
            "change in title, the revised ETR BOM has been shortened by several pages\n",
            "(eliminating many extraneous \"that's\" and \"of's\"), and many (minor) errors\n",
            "have been corrected. This release includes a simplified Joseph Smith Story,\n",
            "testimonies of the three and eight witnesses, and a \"Words-to-Know\"\n",
            "glossary.\n",
            "\n",
            "As with the previous announcement, readers are reminded that this is a\n",
            "not-for-profit endeavor. This is a copyrighted work, but people are welcome\n",
            "to make *verbatim* copies for personal use. People can recuperate the\n",
            "actual costs of printing (paper, copy center charges), but may not charge\n",
            "anything for their time in making copies, or in any way realize a profit\n",
            "from the use of this book. See the permissions notice in the book itself\n",
            "for the precise terms.\n",
            "\n",
            "Negotiations are currently underway with a Mormon publisher vis-a-vis the\n",
            "printing and distribution of bound books. (Sorry, I'm out of the wire-bound\n",
            "\"first editions.\") I will make another announcement about the availability\n",
            "of printed copies once everything has been worked out.\n",
            "\n",
            "FTP information: connect via anonymous ftp to carnot.itc.cmu.edu, then \"cd\n",
            "pub\" (you won't see anything at all until you do).\n",
            "\n",
            "\"The Easy-to-Read Book of Mormon\" is currently available in postscript and\n",
            "RTF (rich text format). (ASCII, LaTeX, and other versions can be made\n",
            "available; contact dba@andrew.cmu.edu for details.) You should be able to\n",
            "print the postscript file on any postscript printer (such as an Apple\n",
            "Laserwriter); let dba know if you have any difficulties. (The postscript in\n",
            "the last release had problems on some printers; this time it should work\n",
            "better.) RTF is a standard document interchange format that can be read in\n",
            "by a number of word processors, including Microsoft Word for both the\n",
            "Macintosh and Windows. If you don't have a postscript printer, you may be\n",
            "able to use the RTF file to print out a copy of the book.\n",
            "\n",
            "-r--r--r--  1 dba                   1984742 Apr 27 13:12 etrbom.ps\n",
            "-r--r--r--  1 dba                   1209071 Apr 27 13:13 etrbom.rtf\n",
            "\n",
            "For more information about how this project came about, please refer to my\n",
            "article in the current issue of _Sunstone_, entitled \"Delighting in\n",
            "Plainness: Issues Surrounding a Simple Modern English Book of Mormon.\"\n",
            "\n",
            "Send all inquiries and comments to:\n",
            "\n",
            "    Lynn Matthews Anderson\n",
            "    5806 Hampton Street\n",
            "    Pittsburgh, PA 15206 \n",
            "****\n",
            "Label=talk.religion.misc\n",
            "Misclassed as comp.graphics\n",
            "\n",
            "*************\n",
            "Example: 2 \n",
            "****\n",
            "Text:\n",
            "Can anyone provide me a ftp site where I can obtain a online version\n",
            "of the Book of Mormon. Please email the internet address if possible. \n",
            "****\n",
            "Label=talk.religion.misc\n",
            "Misclassed as comp.graphics\n",
            "\n",
            "*************\n",
            "Example: 3 \n",
            "****\n",
            "Text:\n",
            "\n",
            "The 24 children were, of course, killed by a lone gunman in a second story\n",
            "window, who fired eight bullets in the space of two seconds...\n",
            " \n",
            "****\n",
            "Label=alt.atheism\n",
            "Misclassed as talk.religion.misc\n",
            "**** So what mistakes is this making? ****\n",
            "Confusion Matrix:\n",
            "[[102  11  19  33]\n",
            " [  5 168  10   2]\n",
            " [ 10  20 165   4]\n",
            " [ 31  10   5  81]]\n",
            "Labels for matrix above:\n",
            "alt.atheism\n",
            "comp.graphics\n",
            "sci.space\n",
            "talk.religion.misc\n"
          ],
          "name": "stdout"
        }
      ]
    },
    {
      "cell_type": "markdown",
      "metadata": {
        "id": "Ez5zyHwbMi2E",
        "colab_type": "text"
      },
      "source": [
        "ANSWER: <p>\n",
        " \"How is TF-IDF different from the CountVectorizer?\"\"<p>\n",
        "   Count Vectorizer just counts the frequencies of words. TF-IDF accounts for those terms being found much more frequently in the entire corpus.\n",
        "   \n",
        "Generally looking at the confusion matrix, alt.atheism and talk.religion.misc categories get confused most frequently, with space and graphics the next most frequent.\n",
        "  \n",
        "Specifically looking at misclassified examples 1 and 2 above, they both have a number of words in them that are commonly associated with the comp.graphics label in that they are technical descriptions/instructions/requests. This is just something that is going to happen at times and I\"m unsure of a simple solution to resolve it. It may be worthwhile looking at n-grams where n=2 or 3 to see if this provides better performance.<br>\n",
        "  \n",
        "Examples 2 and 3 seem to be made with relatively high \"confidence\" (relative to that of the correct label). The thing that stands out in these is that they are very short documents. We should potentially consider a feature that is the length of the document to allow the model to have more uncertainty on predictions on smaller documents.\n",
        "   \n",
        " Additionally, to make the above better I may look at the words being used in to classify each and ensure that those make sense (adding to a stop-list certain words as needed)"
      ]
    },
    {
      "cell_type": "markdown",
      "metadata": {
        "id": "7NIU727eMi2E",
        "colab_type": "text"
      },
      "source": [
        "(8) EXTRA CREDIT\n",
        "\n",
        "Try implementing one of your ideas based on your error analysis. Use logistic regression as your underlying model."
      ]
    },
    {
      "cell_type": "code",
      "metadata": {
        "id": "SGyrMIYmMi2F",
        "colab_type": "code",
        "colab": {}
      },
      "source": [
        ""
      ],
      "execution_count": 0,
      "outputs": []
    },
    {
      "cell_type": "markdown",
      "metadata": {
        "id": "wG7t0PA8YtRO",
        "colab_type": "text"
      },
      "source": [
        "I just ran out of time with work responsibilities this time and couldn't start on this one."
      ]
    }
  ]
}